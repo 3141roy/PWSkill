{
 "cells": [
  {
   "cell_type": "markdown",
   "id": "15015efc-31fb-445b-b307-e1bc129baefb",
   "metadata": {},
   "source": [
    "##### Q1. Which function is used to open a file? What are the different modes of opening a file? Explain each mode of file opening."
   ]
  },
  {
   "cell_type": "markdown",
   "id": "901b5fc6-4daf-4e87-89e1-fcaf88467980",
   "metadata": {},
   "source": [
    "In Python the open() is used to open a file. It follows the basic syntax : file_object = open(file_name, mode)\n",
    "\n",
    "\n",
    "The different modes of opening a file in Python are : \n",
    "\n",
    "Read mode ('r'): This is the default mode, and it is used to read the contents of the file. The file pointer is placed at the beginning of the file.\n",
    "\n",
    "Write mode ('w'): This mode is used to write data to the file. If the file already exists, it will be overwritten. If the file does not exist, a new file will be created.\n",
    "\n",
    "Append mode ('a'): This mode is used to append data to the end of an existing file. If the file does not exist, a new file will be created.\n",
    "\n",
    "Binary mode ('b'): This mode is used to open the file in binary mode. This is typically used when working with non-text files, such as images or audio files."
   ]
  },
  {
   "cell_type": "markdown",
   "id": "d3d89021-cc88-47a6-998d-7432a995f1cc",
   "metadata": {},
   "source": [
    "##### Q2. Why close() function is used? Why is it important to close a file?"
   ]
  },
  {
   "cell_type": "markdown",
   "id": "b55a654f-5d4b-4614-85c7-26716c66eddb",
   "metadata": {},
   "source": [
    "The close() function is used to close an open file in Python. THis frees up system resources and ensures that any data written to the file is saved properly."
   ]
  },
  {
   "cell_type": "markdown",
   "id": "1e3b138a-6f85-4ba2-8062-944d926df299",
   "metadata": {},
   "source": [
    "##### Q3. Write a python program to create a text file. Write ‘I want to become a Data Scientist’ in that file. Then close the file. Open this file and read the content of the file."
   ]
  },
  {
   "cell_type": "code",
   "execution_count": 1,
   "id": "bb95e7a5-dc28-446f-bf20-8a215f7a63c5",
   "metadata": {},
   "outputs": [
    {
     "name": "stdout",
     "output_type": "stream",
     "text": [
      "I want to become a Data Scientist\n"
     ]
    }
   ],
   "source": [
    "file = open(\"text.txt\", \"w\")\n",
    "file.write(\"I want to become a Data Scientist\")\n",
    "file.close()\n",
    "\n",
    "file = open(\"text.txt\", \"r\")\n",
    "content = file.read()\n",
    "\n",
    "print(content)\n",
    "\n",
    "file.close()\n"
   ]
  },
  {
   "cell_type": "markdown",
   "id": "2ece4d23-aa8e-494f-9a72-67bc737df32c",
   "metadata": {},
   "source": [
    "##### Q4. Explain the following with python code: read(), readline() and readlines()."
   ]
  },
  {
   "cell_type": "markdown",
   "id": "1577babb-8429-4742-b863-a70755f50835",
   "metadata": {},
   "source": [
    "read() method is used to read the entire contents of a file as a single string. \n",
    "readline() method is used to read a single line of a file\n",
    "readlines() method is used to read all the lines of a file into a list. Each line is stored as a separate element in the list."
   ]
  },
  {
   "cell_type": "markdown",
   "id": "4febfb90-d9bc-4a5e-8965-403f58e3eca2",
   "metadata": {},
   "source": [
    "##### Q5. Explain why with statement is used with open(). What is the advantage of using with statement and open() together?"
   ]
  },
  {
   "cell_type": "markdown",
   "id": "03d28299-b107-4214-8490-80426764c13d",
   "metadata": {},
   "source": [
    "The with statement in Python is used to wrap the execution of a block of code with methods defined by a context manager.\n",
    "\n",
    "When the with statement is used with open() function to access a file, it automatically takes care of closing the file after the block of code under the with statement has executed. \n",
    "\n",
    "Using them together is beneficial as we dont require to manually close the file as in other cases reducing risk of errors and resource leaks"
   ]
  },
  {
   "cell_type": "markdown",
   "id": "ce5aa90b-e4ef-493d-8500-d878b2facacb",
   "metadata": {},
   "source": [
    "##### Q6. Explain the write() and writelines() functions. Give a suitable example."
   ]
  },
  {
   "cell_type": "markdown",
   "id": "913e392a-577b-4452-8e6d-2b0e6c7fea4a",
   "metadata": {},
   "source": [
    "The write() function is used to write a single string to a file. It takes a single argument, which is the string to be written, and writes it to the file\n",
    "\n",
    "\n",
    "The writelines() function is used to write a list of strings to a file. It takes a single argument, which is a list of strings, and writes each string to the file on a separate line.\n"
   ]
  },
  {
   "cell_type": "code",
   "execution_count": 6,
   "id": "db80eaa9-f579-4015-891b-fa2fcd772318",
   "metadata": {},
   "outputs": [],
   "source": [
    "with open(\"demo.txt\", \"w\") as file:\n",
    "    file.write(\"Using write function\")\n",
    "\n",
    "with open(\"demo.txt\", \"w\") as file:\n",
    "    lines = [\"Line 1\\n\", \"Line 2\\n\"]\n",
    "    file.writelines(lines)\n"
   ]
  },
  {
   "cell_type": "code",
   "execution_count": null,
   "id": "56446629-9833-40ae-903b-411261f42263",
   "metadata": {},
   "outputs": [],
   "source": []
  }
 ],
 "metadata": {
  "kernelspec": {
   "display_name": "Python 3 (ipykernel)",
   "language": "python",
   "name": "python3"
  },
  "language_info": {
   "codemirror_mode": {
    "name": "ipython",
    "version": 3
   },
   "file_extension": ".py",
   "mimetype": "text/x-python",
   "name": "python",
   "nbconvert_exporter": "python",
   "pygments_lexer": "ipython3",
   "version": "3.10.8"
  }
 },
 "nbformat": 4,
 "nbformat_minor": 5
}
