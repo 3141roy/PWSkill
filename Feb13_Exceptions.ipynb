{
 "cells": [
  {
   "cell_type": "markdown",
   "id": "7b4bcea7-1350-4f3e-92c6-60bb37934563",
   "metadata": {},
   "source": [
    "##### Q1. Explain why we have to use the Exception class while creating a Custom Exception."
   ]
  },
  {
   "cell_type": "markdown",
   "id": "94349f6d-135c-467c-83f2-d62a020bc227",
   "metadata": {},
   "source": [
    "n Python, all exceptions are derived from the base Exception class, including built-in exceptions like TypeError, ValueError, ZeroDivisionError, etc.\n",
    "\n",
    "When we create a custom exception, we usually want it to behave like a built-in exception, with a name and possibly an error message. By inheriting from the base Exception class, we are able to give our custom exception the same functionality as the built-in exceptions. "
   ]
  },
  {
   "cell_type": "markdown",
   "id": "58e5f33f-23e2-4b49-8245-843b36bc0917",
   "metadata": {},
   "source": [
    "##### Q2. Write a python program to print Python Exception Hierarchy."
   ]
  },
  {
   "cell_type": "code",
   "execution_count": 11,
   "id": "c71b7c8b-328e-4909-8737-a89888d601df",
   "metadata": {},
   "outputs": [
    {
     "name": "stdout",
     "output_type": "stream",
     "text": [
      "Help on class Exception in module builtins:\n",
      "\n",
      "class Exception(BaseException)\n",
      " |  Common base class for all non-exit exceptions.\n",
      " |  \n",
      " |  Method resolution order:\n",
      " |      Exception\n",
      " |      BaseException\n",
      " |      object\n",
      " |  \n",
      " |  Built-in subclasses:\n",
      " |      ArithmeticError\n",
      " |      AssertionError\n",
      " |      AttributeError\n",
      " |      BufferError\n",
      " |      ... and 15 other subclasses\n",
      " |  \n",
      " |  Methods defined here:\n",
      " |  \n",
      " |  __init__(self, /, *args, **kwargs)\n",
      " |      Initialize self.  See help(type(self)) for accurate signature.\n",
      " |  \n",
      " |  ----------------------------------------------------------------------\n",
      " |  Static methods defined here:\n",
      " |  \n",
      " |  __new__(*args, **kwargs) from builtins.type\n",
      " |      Create and return a new object.  See help(type) for accurate signature.\n",
      " |  \n",
      " |  ----------------------------------------------------------------------\n",
      " |  Methods inherited from BaseException:\n",
      " |  \n",
      " |  __delattr__(self, name, /)\n",
      " |      Implement delattr(self, name).\n",
      " |  \n",
      " |  __getattribute__(self, name, /)\n",
      " |      Return getattr(self, name).\n",
      " |  \n",
      " |  __reduce__(...)\n",
      " |      Helper for pickle.\n",
      " |  \n",
      " |  __repr__(self, /)\n",
      " |      Return repr(self).\n",
      " |  \n",
      " |  __setattr__(self, name, value, /)\n",
      " |      Implement setattr(self, name, value).\n",
      " |  \n",
      " |  __setstate__(...)\n",
      " |  \n",
      " |  __str__(self, /)\n",
      " |      Return str(self).\n",
      " |  \n",
      " |  with_traceback(...)\n",
      " |      Exception.with_traceback(tb) --\n",
      " |      set self.__traceback__ to tb and return self.\n",
      " |  \n",
      " |  ----------------------------------------------------------------------\n",
      " |  Data descriptors inherited from BaseException:\n",
      " |  \n",
      " |  __cause__\n",
      " |      exception cause\n",
      " |  \n",
      " |  __context__\n",
      " |      exception context\n",
      " |  \n",
      " |  __dict__\n",
      " |  \n",
      " |  __suppress_context__\n",
      " |  \n",
      " |  __traceback__\n",
      " |  \n",
      " |  args\n",
      "\n"
     ]
    }
   ],
   "source": [
    "help(Exception)"
   ]
  },
  {
   "cell_type": "markdown",
   "id": "d9f9c8ea-d456-46f0-840e-ea8e6eed0516",
   "metadata": {},
   "source": [
    "##### Q3. What errors are defined in the ArithmeticError class? Explain any two with an example."
   ]
  },
  {
   "cell_type": "markdown",
   "id": "abab1da2-1e8d-4172-8713-0f71fae0cd77",
   "metadata": {},
   "source": [
    "The  ArithmaticError class is used for exceptions that arise due to arithmatic operations\n",
    "\n",
    "1. ZeroDivisionError : When we divide a number by 0\n",
    "2. OverflowError     : When the size required to store a value exceeds the maximum representable value"
   ]
  },
  {
   "cell_type": "code",
   "execution_count": 2,
   "id": "80beb376-2765-4b17-81ed-4f025ff0664d",
   "metadata": {},
   "outputs": [
    {
     "name": "stdout",
     "output_type": "stream",
     "text": [
      "Error: division by zero\n"
     ]
    }
   ],
   "source": [
    "try:\n",
    "    result = 2 / 0\n",
    "except ZeroDivisionError as e:\n",
    "    print(\"Error:\", e)\n"
   ]
  },
  {
   "cell_type": "code",
   "execution_count": 5,
   "id": "8afae220-e016-4aa6-b9fb-01e4a9a68b76",
   "metadata": {},
   "outputs": [
    {
     "name": "stdout",
     "output_type": "stream",
     "text": [
      "Error: math range error\n"
     ]
    }
   ],
   "source": [
    "import math\n",
    "try:\n",
    "    result = math.exp(1000000)\n",
    "except OverflowError as e:\n",
    "    print(\"Error:\", e)"
   ]
  },
  {
   "cell_type": "markdown",
   "id": "42eef6d0-4c5c-4e55-b837-de42bb2d2c7d",
   "metadata": {},
   "source": [
    "##### Q4. Why LookupError class is used? Explain with an example KeyError and IndexError."
   ]
  },
  {
   "cell_type": "markdown",
   "id": "6b3a7eae-49cd-4ddb-8792-3727d60bf141",
   "metadata": {},
   "source": [
    "LookupError is a type of error in python that occurs when a lookup or indexing operation fails.\n",
    "\n",
    "1. KeyError: When we try to access a dictionary key that does not exist.\n",
    "2. IndexError: When we try to access an index that is out of range for a sequence"
   ]
  },
  {
   "cell_type": "code",
   "execution_count": 7,
   "id": "35b4c46a-1ac1-4ed0-b9c5-595bd7ac006a",
   "metadata": {},
   "outputs": [
    {
     "name": "stdout",
     "output_type": "stream",
     "text": [
      "Error because key did not exist\n"
     ]
    }
   ],
   "source": [
    "#KeyError\n",
    "\n",
    "d = {\"a\": 1, \"b\": 2}\n",
    "try:\n",
    "    value = d[\"c\"]\n",
    "except KeyError as e:\n",
    "    print(\"Error because key did not exist\")\n"
   ]
  },
  {
   "cell_type": "code",
   "execution_count": 9,
   "id": "8da7253f-d831-4024-96f3-b44f992a4cbd",
   "metadata": {},
   "outputs": [
    {
     "name": "stdout",
     "output_type": "stream",
     "text": [
      "ListError cause we access element our of range\n"
     ]
    }
   ],
   "source": [
    "#IndexError\n",
    "\n",
    "l = [1,2,3,4,5]\n",
    "try:\n",
    "    value = l[10]\n",
    "except IndexError as e:\n",
    "    print(\"ListError cause we access element our of range\")\n"
   ]
  },
  {
   "cell_type": "markdown",
   "id": "3abf0951-f9b3-48b1-8d82-bc328c50f9d5",
   "metadata": {},
   "source": [
    "##### Q5. Explain ImportError. What is ModuleNotFoundError?"
   ]
  },
  {
   "cell_type": "markdown",
   "id": "10ae01b6-e459-4edc-b6aa-f3b8896063bb",
   "metadata": {},
   "source": [
    "ImportError is raised when a module or package can not be imported or found. \n",
    "\n",
    "ModuleNotFoundError is a subclass of ImportError that was introduced in Python 3.6. It is raised when a module is not found in the Python Standard Library or in a specific package or location. The main difference between ImportError and ModuleNotFoundError is that the former can be raised for other reasons besides a missing module, such as an incorrect module name or a missing required dependency, while the latter is specifically raised when a module cannot be found."
   ]
  },
  {
   "cell_type": "markdown",
   "id": "885224ac-ff3f-4037-aed9-082070ad9f9f",
   "metadata": {},
   "source": [
    "##### Q6. List down some best practices for exception handling in python."
   ]
  },
  {
   "cell_type": "markdown",
   "id": "2ec8772e-abe4-4b2d-aa18-95559cacdf65",
   "metadata": {},
   "source": [
    "Here are some best practices for exception handling in Python:\n",
    "\n",
    "1. Be specific with the exceptions you catch: Catch only the exceptions that you expect and know how to handle. Avoid using a broad catch-all statement like except Exception:.\n",
    "\n",
    "2. Use multiple except statements: Handle different exceptions in different except statements. This makes it easier to debug and maintain the code.\n",
    "\n",
    "3. Use finally block for cleanup: Use a finally block to ensure that cleanup code is always executed, whether or not an exception occurred.\n",
    "\n",
    "4. Log exceptions: Use a logging framework to log exceptions and relevant information, such as the stack trace and context.\n",
    "\n",
    "5. Reraise exceptions when appropriate: If an exception occurs that you don't know how to handle, consider re-raising it to the calling function or module. This allows higher-level code to handle the exception in a way that makes sense.\n",
    "\n",
    "6. Don't use exceptions for control flow: Exceptions should not be used for normal control flow. They should only be used for exceptional situations, such as errors or unexpected behavior.\n",
    "\n",
    "7. Use built-in exceptions when possible: Use built-in exceptions when possible, such as ValueError or TypeError, rather than creating custom exceptions. This makes it easier for others to understand the code and reduces the likelihood of introducing bugs.\n",
    "\n",
    "8. Keep exception messages clear and concise: Exception messages should be clear and concise, and should explain what went wrong and how to fix it. Avoid using overly technical language or cryptic error messages.\n",
    "\n",
    "\n",
    "\n",
    "\n"
   ]
  },
  {
   "cell_type": "code",
   "execution_count": null,
   "id": "409d5bdc-231c-4eca-ae89-2c7ed5f40a4a",
   "metadata": {},
   "outputs": [],
   "source": []
  }
 ],
 "metadata": {
  "kernelspec": {
   "display_name": "Python 3 (ipykernel)",
   "language": "python",
   "name": "python3"
  },
  "language_info": {
   "codemirror_mode": {
    "name": "ipython",
    "version": 3
   },
   "file_extension": ".py",
   "mimetype": "text/x-python",
   "name": "python",
   "nbconvert_exporter": "python",
   "pygments_lexer": "ipython3",
   "version": "3.10.8"
  }
 },
 "nbformat": 4,
 "nbformat_minor": 5
}
