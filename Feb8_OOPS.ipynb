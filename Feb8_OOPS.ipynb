{
 "cells": [
  {
   "cell_type": "markdown",
   "id": "480d88e3-68b8-4a92-9112-959df501226c",
   "metadata": {},
   "source": [
    "##### Q1. What is Abstraction in OOps? Explain with an example."
   ]
  },
  {
   "cell_type": "markdown",
   "id": "0fc371a5-04ee-476c-b28b-bfd24d5ea8dc",
   "metadata": {},
   "source": [
    "In OOPS, Abstraction refers to the art of hiding the intricacies or the complex details in the implementation of a program and providing the user a clean look and a great experience. \n",
    "\n",
    "A real world example to understand this can be a car, When we drive a car, we do not need to know how the engine works or how the transmission system functions. All we need to know is how to operate the car's pedals, gears, and steering wheel. \n",
    "\n",
    "This is an example of abstraction where we focus only on the essential features of the car and ignore the complex details of its internal workings."
   ]
  },
  {
   "cell_type": "markdown",
   "id": "fb79b340-e19f-4d00-b4d5-bffd377fc0ab",
   "metadata": {},
   "source": [
    "##### Q2. Differentiate between Abstraction and Encapsulation. Explain with an example."
   ]
  },
  {
   "cell_type": "markdown",
   "id": "f4d4fb93-e1b8-4e1f-901e-119d924f1776",
   "metadata": {},
   "source": [
    "Abstraction is about hiding the complexity of the system by providing a simple interface, while Encapsulation is about hiding the internal data of an object from the outside world and restricting access to it.\n",
    "\n",
    "An example for abstraction is discussed above. Using similar class of a car to understand encapsulation,\n",
    "The internal data of the car, such as the engine, transmission, and fuel tank, should not be accessible to the outside world. Encapsulation can be achieved by defining private data members and methods that allow the car object to interact with its internal data, while preventing external users from directly accessing and modifying it."
   ]
  },
  {
   "cell_type": "markdown",
   "id": "20bcbb6f-62f3-4826-bbff-ae8c58c4e6da",
   "metadata": {},
   "source": [
    "##### Q3. What is abc module in python? Why is it used?"
   ]
  },
  {
   "cell_type": "markdown",
   "id": "b4778c6d-76e5-4057-8fd2-66f0e3da4081",
   "metadata": {},
   "source": [
    "he abc module in Python stands for \"Abstract Base Classes\". It provides a way to define abstract classes in Python. Abstract classes are classes that cannot be instantiated and are designed to be subclassed by other classes that do provide concrete implementations. Abstract classes define a set of methods that their concrete subclasses must implement, allowing for a common interface across multiple implementations."
   ]
  },
  {
   "cell_type": "markdown",
   "id": "2a499626-0d3b-4a23-92bc-2d4759998a82",
   "metadata": {},
   "source": [
    "##### Q4. How can we achieve data abstraction?"
   ]
  },
  {
   "cell_type": "markdown",
   "id": "a9dce7f6-2632-4357-af1f-559ea94b4c51",
   "metadata": {},
   "source": [
    "In Python, we can achieve data abstraction through the use of abstract classes and interfaces. An abstract class is a class that cannot be instantiated and is meant to be subclassed by other classes. It provides a blueprint for its subclasses to follow, defining methods and properties that the subclasses must implement. Abstract classes can contain both abstract and concrete methods."
   ]
  },
  {
   "cell_type": "markdown",
   "id": "30f645a2-6463-4ceb-905d-9fe0564cb5fa",
   "metadata": {},
   "source": [
    "##### Q5. Can we create an instance of an abstract class? Explain your answer."
   ]
  },
  {
   "cell_type": "markdown",
   "id": "7363ddfb-aded-490c-a5f2-4b5913189301",
   "metadata": {},
   "source": [
    "No, we cannot create an instance of an abstract class directly in Python. An abstract class is a class that contains one or more abstract methods. An abstract method is a method that is declared but contains no implementation.\n",
    "\n",
    "The purpose of an abstract class is to define the interface or contract that the derived classes should implement. In Python, we can define an abstract class by inheriting the ABC (Abstract Base Class) class from the abc module.\n",
    "\n",
    "To create an instance of a class, we need to provide an implementation for all the abstract methods defined in the abstract class. If we try to create an instance of an abstract class without providing an implementation for its abstract methods, Python will raise a TypeError."
   ]
  }
 ],
 "metadata": {
  "kernelspec": {
   "display_name": "Python 3 (ipykernel)",
   "language": "python",
   "name": "python3"
  },
  "language_info": {
   "codemirror_mode": {
    "name": "ipython",
    "version": 3
   },
   "file_extension": ".py",
   "mimetype": "text/x-python",
   "name": "python",
   "nbconvert_exporter": "python",
   "pygments_lexer": "ipython3",
   "version": "3.10.8"
  }
 },
 "nbformat": 4,
 "nbformat_minor": 5
}
