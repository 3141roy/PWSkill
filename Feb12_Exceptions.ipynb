{
 "cells": [
  {
   "cell_type": "markdown",
   "id": "48dbe335-ecfa-4acc-8f87-40db41276f7b",
   "metadata": {},
   "source": [
    "##### Q1. What is an Exception in Python? Write difference between Exception and Syntax Errors"
   ]
  },
  {
   "cell_type": "markdown",
   "id": "e5c23f3a-0d5e-4d47-919d-65ea65f88a92",
   "metadata": {},
   "source": [
    "An exception is an event that occurs during the execution of a program that disrupts the normal flow of the program's instructions.\n",
    "\n",
    "Syntax errors unlike exceptions occur when the Python interpreter encounters invalid code that does not conform to the language's syntax rules. Syntax errors are detected during the parsing phase of program execution, before the code is actually executed."
   ]
  },
  {
   "cell_type": "markdown",
   "id": "ae0bdbb5-ba32-46bd-ae38-06d9514221a1",
   "metadata": {},
   "source": [
    "##### Q2. What happends when an exception is not handles? Explain with example"
   ]
  },
  {
   "cell_type": "markdown",
   "id": "b03c86c8-fcdf-4660-987e-18518ffb9056",
   "metadata": {},
   "source": [
    "Not handling exceptions causes the program to terminate abruptly with an error message."
   ]
  },
  {
   "cell_type": "code",
   "execution_count": 1,
   "id": "68e58e5b-846c-40ef-8374-43c12ebdce83",
   "metadata": {},
   "outputs": [
    {
     "ename": "ZeroDivisionError",
     "evalue": "division by zero",
     "output_type": "error",
     "traceback": [
      "\u001b[0;31m---------------------------------------------------------------------------\u001b[0m",
      "\u001b[0;31mZeroDivisionError\u001b[0m                         Traceback (most recent call last)",
      "Cell \u001b[0;32mIn[1], line 1\u001b[0m\n\u001b[0;32m----> 1\u001b[0m x \u001b[38;5;241m=\u001b[39m \u001b[38;5;241;43m1\u001b[39;49m\u001b[38;5;241;43m/\u001b[39;49m\u001b[38;5;241;43m0\u001b[39;49m\n",
      "\u001b[0;31mZeroDivisionError\u001b[0m: division by zero"
     ]
    }
   ],
   "source": [
    "x = 1/0"
   ]
  },
  {
   "cell_type": "code",
   "execution_count": 2,
   "id": "9ee40b12-bd23-429c-96d6-507c83cf6844",
   "metadata": {},
   "outputs": [
    {
     "name": "stdout",
     "output_type": "stream",
     "text": [
      "Flow of execution is not interrupted\n"
     ]
    }
   ],
   "source": [
    "try:\n",
    "    x = 1/0\n",
    "except Exception as e:\n",
    "    print('Flow of execution is not interrupted')"
   ]
  },
  {
   "cell_type": "markdown",
   "id": "acbf8b8b-f153-4421-9f4e-c9edb58a07aa",
   "metadata": {},
   "source": [
    "##### Q3. Which Python statements are used to catch and handle exceptions? Explain with example"
   ]
  },
  {
   "cell_type": "markdown",
   "id": "eb18856c-4c16-413f-8959-f71531239b61",
   "metadata": {},
   "source": [
    "In Python exceptiosn are handled using try and except statements. Finally and else may also be used depending on use cases"
   ]
  },
  {
   "cell_type": "code",
   "execution_count": 5,
   "id": "92806492-581b-45df-af5c-924f7b279519",
   "metadata": {},
   "outputs": [
    {
     "name": "stdout",
     "output_type": "stream",
     "text": [
      "Exception is raised\n"
     ]
    }
   ],
   "source": [
    "try:\n",
    "    x = 1/0\n",
    "except Exception as e:\n",
    "    print('Exception is raised')\n",
    "    \n",
    "#This example illustrates the working of a basic exception"
   ]
  },
  {
   "cell_type": "markdown",
   "id": "d0e2004c-5841-44da-aac2-0e0f600cd987",
   "metadata": {},
   "source": [
    "##### Q4. Explain with an example:\n",
    "a. try and else\n",
    "b. finally\n",
    "c. raise"
   ]
  },
  {
   "cell_type": "markdown",
   "id": "fe89abea-a3aa-4c48-8946-8ad124457ffa",
   "metadata": {},
   "source": [
    "The else block is executed only when there is no exception raised else the except block is executed"
   ]
  },
  {
   "cell_type": "code",
   "execution_count": 6,
   "id": "31525e86-0085-4e0c-b2c5-ec84a67f4404",
   "metadata": {},
   "outputs": [
    {
     "name": "stdout",
     "output_type": "stream",
     "text": [
      "0.5\n",
      "In the exceptiom\n"
     ]
    }
   ],
   "source": [
    "def div(x,y):\n",
    "    try:\n",
    "        ans = x/y\n",
    "    except Exception as e:\n",
    "        print('In the exceptiom')\n",
    "    else:\n",
    "        print(ans)\n",
    "        \n",
    "div(2,4)\n",
    "div(5,0)"
   ]
  },
  {
   "cell_type": "markdown",
   "id": "f168ed10-b5b7-4fc1-b292-34fbfb4cb22d",
   "metadata": {},
   "source": [
    "Finally block is always executed irrespective of whether exception was raised or not"
   ]
  },
  {
   "cell_type": "code",
   "execution_count": 7,
   "id": "885e7c96-1558-45cc-bd60-432dc23fd038",
   "metadata": {},
   "outputs": [
    {
     "name": "stdout",
     "output_type": "stream",
     "text": [
      "0.5\n",
      "Always executed\n",
      "In the exceptiom\n",
      "Always executed\n"
     ]
    }
   ],
   "source": [
    "def div(x,y):\n",
    "    try:\n",
    "        ans = x/y\n",
    "    except Exception as e:\n",
    "        print('In the exceptiom')\n",
    "    else:\n",
    "        print(ans)\n",
    "    finally:\n",
    "        print('Always executed')\n",
    "        \n",
    "div(2,4)\n",
    "div(5,0)"
   ]
  },
  {
   "cell_type": "markdown",
   "id": "fdab0c3b-b821-41cd-b45b-35983e23d87b",
   "metadata": {},
   "source": [
    "Raise is used to explicitly raise an error"
   ]
  },
  {
   "cell_type": "code",
   "execution_count": 9,
   "id": "279f95d6-cb14-4c70-801c-82c0ec055317",
   "metadata": {},
   "outputs": [],
   "source": [
    "try: \n",
    "    def divide(x, y):\n",
    "        if y == 0:\n",
    "            raise ZeroDivisionError(\"Div by 0\")\n",
    "        return x / y\n",
    "except ZeroDivisionError as e:\n",
    "    print('Error was raised')\n",
    "    \n",
    "#Can also be used to throw user defined errors for custom scenarios\n"
   ]
  },
  {
   "cell_type": "markdown",
   "id": "16e00154-1583-43ba-aa64-7c471fd48134",
   "metadata": {},
   "source": [
    "##### Q5. What are custom exception? Why do we need Custom Exceptions? Give example"
   ]
  },
  {
   "cell_type": "markdown",
   "id": "d477882a-3df7-417f-b744-d36d34088ce9",
   "metadata": {},
   "source": [
    "These are special type of exceptions not present in the Python library used to demonstrate certain specific conditions set by the user\n",
    "\n",
    "Example in a program we may need to check if user is above 18 or not. This requires a custom check "
   ]
  },
  {
   "cell_type": "markdown",
   "id": "e3656597-ecd4-425a-b24b-7c0343cf17f3",
   "metadata": {},
   "source": [
    "##### Q6. Create a custom exception class. Use this class to handle an exception"
   ]
  },
  {
   "cell_type": "code",
   "execution_count": 12,
   "id": "7caaec3f-86b7-4b24-aa89-9a3765838a9c",
   "metadata": {},
   "outputs": [
    {
     "name": "stdin",
     "output_type": "stream",
     "text": [
      "Enter your age:  13\n"
     ]
    },
    {
     "name": "stdout",
     "output_type": "stream",
     "text": [
      "Age should be above 18 to continue.\n"
     ]
    }
   ],
   "source": [
    "class AgeLimitException(Exception):\n",
    "    pass\n",
    "\n",
    "def check_age(age):\n",
    "    if age < 18:\n",
    "        raise AgeLimitException(\"Age should be above 18 to continue.\")\n",
    "    else:\n",
    "        print(\"Access granted.\")\n",
    "\n",
    "try:\n",
    "    age = int(input(\"Enter your age: \"))\n",
    "    check_age(age)\n",
    "except AgeLimitException as e:\n",
    "    print(e)\n"
   ]
  },
  {
   "cell_type": "code",
   "execution_count": null,
   "id": "d7cdaf8c-3108-4716-a56f-8932ba4a7bff",
   "metadata": {},
   "outputs": [],
   "source": []
  }
 ],
 "metadata": {
  "kernelspec": {
   "display_name": "Python 3 (ipykernel)",
   "language": "python",
   "name": "python3"
  },
  "language_info": {
   "codemirror_mode": {
    "name": "ipython",
    "version": 3
   },
   "file_extension": ".py",
   "mimetype": "text/x-python",
   "name": "python",
   "nbconvert_exporter": "python",
   "pygments_lexer": "ipython3",
   "version": "3.10.8"
  }
 },
 "nbformat": 4,
 "nbformat_minor": 5
}
