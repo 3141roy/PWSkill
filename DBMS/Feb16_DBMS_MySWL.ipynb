{
 "cells": [
  {
   "cell_type": "markdown",
   "id": "b058230e-4380-4864-9910-6fadc43a3c22",
   "metadata": {},
   "source": [
    "#### What is a database? Differentiate between SQL and NoSQL databases."
   ]
  },
  {
   "cell_type": "markdown",
   "id": "55522e8c-800d-451d-b4e7-4b674b1d18e4",
   "metadata": {},
   "source": [
    "A database is a structured collection of data that is organized and stored in a computer system. It provides a way to store, retrieve, and manage data efficiently\n",
    "\n",
    "SQL (Structured Query Language) and NoSQL (Not Only SQL) are two main types of databases. The main differences between these two types are as follows:\n",
    "\n",
    "1. Data structure: SQL databases use a structured format, with tables that have fixed schemas, while NoSQL databases can be structured or unstructured and do not use tables.\n",
    "\n",
    "2. Scalability: NoSQL databases are designed to scale horizontally, which means they can easily accommodate growing amounts of data across multiple servers. SQL databases, on the other hand, are designed to scale vertically, which means they require more powerful hardware to handle larger volumes of data.\n",
    "\n",
    "3. Querying: SQL databases use a standardized query language (SQL) to retrieve and manipulate data, while NoSQL databases use different query languages depending on the database type and implementation.\n",
    "\n",
    "4. Consistency: SQL databases provide strong consistency, meaning that data is always up-to-date and accurate. NoSQL databases provide eventual consistency, meaning that data may take some time to propagate throughout the system, and different nodes may have different versions of the same data.\n",
    "\n",
    "5. Data storage: SQL databases store data in tables, while NoSQL databases use various data storage models such as key-value stores, document databases, graph databases, and others.\n",
    "\n"
   ]
  },
  {
   "cell_type": "markdown",
   "id": "0f5ec740-7d07-4b08-81b2-a92dca90e0c1",
   "metadata": {},
   "source": [
    "#### What is DDL? Explain why CREATE, DROP, ALTER, and TRUNCATE are used with an example."
   ]
  },
  {
   "cell_type": "markdown",
   "id": "df2c1823-1ff4-4877-9919-c6a07d3c599a",
   "metadata": {},
   "source": [
    "DDL stands for Data Definition Language. It is a subset of SQL (Structured Query Language) that is used to define, modify, and delete the database objects such as tables, indexes, and constraints.\n",
    "\n",
    "1. CREATE: The CREATE statement is used to create a new database object such as a table, view, or index.\n",
    "\n",
    "CREATE TABLE students (\n",
    "   id INT PRIMARY KEY,\n",
    "   name VARCHAR(50),\n",
    "   age INT\n",
    ");\n",
    "\n",
    "2. DROP: The DROP statement is used to delete a database object such as a table, view, or index. \n",
    "\n",
    "DROP TABLE students;\n",
    "\n",
    "3. ALTER : ALTER: The ALTER statement is used to modify the structure of an existing database object such as a table, view, or index.\n",
    "\n",
    "ALTER TABLE students ADD COLUMN email VARCHAR(50);\n",
    "\n",
    "4. TRUNCATE: The TRUNCATE statement is used to delete all the data from a table. It is a faster alternative to the DELETE statement when you want to delete all the data from a table.\n",
    "\n",
    "TRUNCATE TABLE students;\n"
   ]
  },
  {
   "cell_type": "markdown",
   "id": "d4be31ad-a425-4c5e-90ae-f013d0c7ba7f",
   "metadata": {},
   "source": [
    "#### What is DML? Explain INSERT, UPDATE, and DELETE with an example."
   ]
  },
  {
   "cell_type": "markdown",
   "id": "42f643f1-a26b-4017-b18e-10176b94e11a",
   "metadata": {},
   "source": [
    "DML stands for Data Manipulation Language, which is a subset of SQL (Structured Query Language) used to manipulate data stored in a database. It allows users to insert, update, and delete data in a database.\n",
    "\n",
    "1. INSERT: The INSERT statement is used to add new data to a table in a database.\n",
    "\n",
    "INSERT INTO customers (customer_name, customer_email, customer_phone)\n",
    "VALUES ('John Doe', 'johndoe@email.com', '555-555-5555');\n",
    "\n",
    "2. UPDATE: The UPDATE statement is used to modify existing data in a table. \n",
    "\n",
    "UPDATE customers\n",
    "SET customer_phone = '111-111-1111'\n",
    "WHERE customer_name = 'John Doe';\n",
    "\n",
    "3. DELETE: The DELETE statement is used to remove existing data from a table. \n",
    "\n",
    "DELETE FROM customers\n",
    "WHERE customer_name = 'John Doe';\n"
   ]
  },
  {
   "cell_type": "markdown",
   "id": "6a907ea1-512b-44de-b34c-d21b33471a76",
   "metadata": {},
   "source": [
    "#### What is DQL? Explain SELECT with an example."
   ]
  },
  {
   "cell_type": "markdown",
   "id": "25e52699-68cc-42d2-b857-ac428097271c",
   "metadata": {},
   "source": [
    "DQL stands for Data Query Language, and it is used to retrieve data from a database. \n",
    "\n",
    "The SELECT command is used to retrieve data from one or more tables in a database.\n",
    "\n",
    "SELECT name, age FROM employees WHERE age > 30;\n"
   ]
  },
  {
   "cell_type": "markdown",
   "id": "f592bb43-d61f-435a-9161-3773b6cb9f49",
   "metadata": {},
   "source": [
    "#### Explain Primary Key and Foreign Key."
   ]
  },
  {
   "cell_type": "markdown",
   "id": "dedca377-80f9-4caa-b10e-3e50741ea720",
   "metadata": {},
   "source": [
    "Primary keys ensure that each record is unique and that there are no duplicate records in the table. Primary keys can be used as a reference by other tables in the database\n",
    "\n",
    "A foreign key is a column in a table that refers to the primary key of another table. It establishes a link between two tables and is used to enforce referential integrity. When a foreign key is defined in a table, it ensures that the values in that column match the values in the primary key of another table.\n",
    "\n"
   ]
  },
  {
   "cell_type": "markdown",
   "id": "56660385-d706-4657-a470-d2ccc3516eb0",
   "metadata": {},
   "source": [
    "#### Write a python code to connect MySQL to python. Explain the cursor() and execute() method."
   ]
  },
  {
   "cell_type": "code",
   "execution_count": 1,
   "id": "8c42501f-181c-47e3-936c-d73957e9cd98",
   "metadata": {},
   "outputs": [
    {
     "ename": "ModuleNotFoundError",
     "evalue": "No module named 'mysql'",
     "output_type": "error",
     "traceback": [
      "\u001b[0;31m---------------------------------------------------------------------------\u001b[0m",
      "\u001b[0;31mModuleNotFoundError\u001b[0m                       Traceback (most recent call last)",
      "Cell \u001b[0;32mIn[1], line 1\u001b[0m\n\u001b[0;32m----> 1\u001b[0m \u001b[38;5;28;01mimport\u001b[39;00m \u001b[38;5;21;01mmysql\u001b[39;00m\u001b[38;5;21;01m.\u001b[39;00m\u001b[38;5;21;01mconnector\u001b[39;00m\n\u001b[1;32m      3\u001b[0m mydb \u001b[38;5;241m=\u001b[39m mysql\u001b[38;5;241m.\u001b[39mconnector\u001b[38;5;241m.\u001b[39mconnect(\n\u001b[1;32m      4\u001b[0m   host\u001b[38;5;241m=\u001b[39m\u001b[38;5;124m\"\u001b[39m\u001b[38;5;124mlocalhost\u001b[39m\u001b[38;5;124m\"\u001b[39m,\n\u001b[1;32m      5\u001b[0m   user\u001b[38;5;241m=\u001b[39m\u001b[38;5;124m\"\u001b[39m\u001b[38;5;124muser\u001b[39m\u001b[38;5;124m\"\u001b[39m,\n\u001b[1;32m      6\u001b[0m   password\u001b[38;5;241m=\u001b[39m\u001b[38;5;124m\"\u001b[39m\u001b[38;5;124mpw\u001b[39m\u001b[38;5;124m\"\u001b[39m,\n\u001b[1;32m      7\u001b[0m   database\u001b[38;5;241m=\u001b[39m\u001b[38;5;124m\"\u001b[39m\u001b[38;5;124mdb_name\u001b[39m\u001b[38;5;124m\"\u001b[39m\n\u001b[1;32m      8\u001b[0m )\n\u001b[1;32m     10\u001b[0m \u001b[38;5;66;03m# Create a cursor object\u001b[39;00m\n",
      "\u001b[0;31mModuleNotFoundError\u001b[0m: No module named 'mysql'"
     ]
    }
   ],
   "source": [
    "import mysql.connector\n",
    "\n",
    "mydb = mysql.connector.connect(\n",
    "  host=\"localhost\",\n",
    "  user=\"user\",\n",
    "  password=\"pw\",\n",
    "  database=\"db_name\"\n",
    ")\n",
    "\n",
    "# Create a cursor object\n",
    "mycursor = mydb.cursor()\n",
    "\n",
    "# Execute a query\n",
    "mycursor.execute(\"SELECT * FROM students\")\n",
    "\n",
    "# Fetch the results\n",
    "result = mycursor.fetchall()\n",
    "\n",
    "# Display the results\n",
    "for row in result:\n",
    "  print(row)\n"
   ]
  },
  {
   "cell_type": "markdown",
   "id": "9edfa54a-b56c-429b-b91c-6296e2a62ceb",
   "metadata": {},
   "source": [
    "#### Give the order of execution of SQL clauses in an SQL query."
   ]
  },
  {
   "cell_type": "markdown",
   "id": "f6ccae4c-42ea-4672-baa4-bd9f0baa6c8c",
   "metadata": {},
   "source": [
    "In a standard SQL query, the clauses are executed in the following order:\n",
    "\n",
    "1. FROM: This clause specifies the tables from which data is to be retrieved.\n",
    "2. JOIN: This clause combines rows from two or more tables based on a related column between them.\n",
    "3. WHERE: This clause specifies the conditions that must be met in order for a row to be included in the result set.\n",
    "4. GROUP BY: This clause groups the results by one or more columns.\n",
    "5. HAVING: This clause is used to filter the groups produced by the GROUP BY clause.\n",
    "6. SELECT: This clause specifies the columns to be included in the result set.\n",
    "7. DISTINCT: This clause removes duplicates from the result set.\n",
    "8. ORDER BY: This clause specifies the order in which the results should be sorted.\n",
    "9. LIMIT: This clause limits the number of rows returned by the query."
   ]
  },
  {
   "cell_type": "code",
   "execution_count": null,
   "id": "4fc1313f-43f4-4c7f-a384-11522f8db00a",
   "metadata": {},
   "outputs": [],
   "source": []
  }
 ],
 "metadata": {
  "kernelspec": {
   "display_name": "Python 3 (ipykernel)",
   "language": "python",
   "name": "python3"
  },
  "language_info": {
   "codemirror_mode": {
    "name": "ipython",
    "version": 3
   },
   "file_extension": ".py",
   "mimetype": "text/x-python",
   "name": "python",
   "nbconvert_exporter": "python",
   "pygments_lexer": "ipython3",
   "version": "3.10.8"
  }
 },
 "nbformat": 4,
 "nbformat_minor": 5
}
