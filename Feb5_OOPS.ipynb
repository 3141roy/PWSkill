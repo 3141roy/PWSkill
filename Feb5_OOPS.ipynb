{
 "cells": [
  {
   "cell_type": "markdown",
   "id": "ce974845-63f3-47b4-a41c-798c59da809b",
   "metadata": {
    "jp-MarkdownHeadingCollapsed": true,
    "tags": []
   },
   "source": [
    "##### Q1. Explain Class and Object with respect to Object-Oriented Programming. Give a suitable example."
   ]
  },
  {
   "cell_type": "markdown",
   "id": "ae8c4958-997d-4d58-8371-4456d4e2e648",
   "metadata": {},
   "source": [
    "A class is a blueprint for a real world entity that defines its set of attributes and behaviours i.e. its functionality.\n",
    "\n",
    "An object on the other hand is an instance of a class that is a real world representation of it and has a specific set of properties and occupies space in memory\n",
    "\n",
    "EG: Car is a class as it the defines the basic structure of a real world entity alongside declaring its dimensions like No. of seats, Mileage, Brand etc. A specific car like say Mahindra Scorpio is a an object of this class as it follows the basic structure of a class along with having a set of properties exclusive only to it."
   ]
  },
  {
   "cell_type": "code",
   "execution_count": 1,
   "id": "a08dc975-a820-4f26-95ce-7d25dc759891",
   "metadata": {},
   "outputs": [],
   "source": [
    "class car:\n",
    "    def __init__(self,name,brand,mileage):\n",
    "        self.name = name\n",
    "        self.brand = brand\n",
    "        self.mileage = mileage\n",
    "# A class is defined above\n",
    "\n",
    "#Now to define an object of this class\n",
    "c = car('Scorpio', 'Mahindra', 20)"
   ]
  },
  {
   "cell_type": "markdown",
   "id": "bfd323f1-49b8-4b4d-872a-a40dc51f0737",
   "metadata": {
    "jp-MarkdownHeadingCollapsed": true,
    "tags": []
   },
   "source": [
    "##### Q2. Name the four pillars of OOPs."
   ]
  },
  {
   "cell_type": "markdown",
   "id": "4f6a80ac-d393-4eb3-b540-b5c7b2d389ea",
   "metadata": {},
   "source": [
    "Encapsulation\n",
    "Inheritance\n",
    "Abstraction\n",
    "Polymorphism"
   ]
  },
  {
   "cell_type": "markdown",
   "id": "e425be10-03e5-4d56-85ac-8307187a1e50",
   "metadata": {
    "jp-MarkdownHeadingCollapsed": true,
    "tags": []
   },
   "source": [
    "##### Q3. Explain why the __init__() function is used. Give a suitable example."
   ]
  },
  {
   "cell_type": "markdown",
   "id": "9e710bf7-6d91-483c-b0d1-5fb7a62f850c",
   "metadata": {},
   "source": [
    "The init function is used to initialize data structures and acts as a constructor when defining a class"
   ]
  },
  {
   "cell_type": "code",
   "execution_count": 2,
   "id": "8b28f159-0e00-4c40-9bc4-209c2d4abd47",
   "metadata": {},
   "outputs": [],
   "source": [
    "class car:\n",
    "    def __init__(self,name,brand,mileage):\n",
    "        self.name = name\n",
    "        self.brand = brand\n",
    "        self.mileage = mileage\n",
    "        \n",
    "        \n",
    "#Here using the init function we assign initial user defined values as attributes of the instance of the class"
   ]
  },
  {
   "cell_type": "markdown",
   "id": "392535a6-9b74-4c92-802a-20ce4bc95830",
   "metadata": {
    "jp-MarkdownHeadingCollapsed": true,
    "tags": []
   },
   "source": [
    "##### Q4. Why self is used in OOPs?"
   ]
  },
  {
   "cell_type": "markdown",
   "id": "33c0bfec-7f6f-401e-b60e-8324a13a0ec3",
   "metadata": {},
   "source": [
    "The self is used to represent the instance of the class. With this keyword, you can access the attributes and methods of the class in python. It binds the attributes with the given arguments. It is also a default arguement that is passed when calling a method of a function to indicate that object that the method was called upon"
   ]
  },
  {
   "cell_type": "code",
   "execution_count": 4,
   "id": "de78654f-2e13-4b59-bb03-b4d6016627f5",
   "metadata": {},
   "outputs": [
    {
     "name": "stdout",
     "output_type": "stream",
     "text": [
      "Mahindra Scorpio 20\n"
     ]
    }
   ],
   "source": [
    "class car:\n",
    "    def __init__(self,name,brand,mileage):\n",
    "        self.name = name\n",
    "        self.brand = brand\n",
    "        self.mileage = mileage\n",
    "    def show_details(self):\n",
    "        print(self.brand,self.name,self.mileage)\n",
    "\n",
    "\n",
    "c = car('Scorpio', 'Mahindra', 20)\n",
    "c.show_details()"
   ]
  },
  {
   "cell_type": "markdown",
   "id": "206021f2-0611-4650-b8dc-6deb3f28a730",
   "metadata": {
    "jp-MarkdownHeadingCollapsed": true,
    "tags": []
   },
   "source": [
    "##### Q5. What is inheritance? Give an example for each type of inheritance."
   ]
  },
  {
   "cell_type": "markdown",
   "id": "4628edbc-56b1-466d-9104-9797f3bc991d",
   "metadata": {},
   "source": [
    "Inhertiance is a way ny which genetic information is passed from parent to child. The class that inherits the properties and methods is called the \"derived class\" or \"subclass\", and the class that is inherited from is called the \"base class\" or \"superclass\"."
   ]
  },
  {
   "cell_type": "code",
   "execution_count": 5,
   "id": "b9deb719-3368-4daf-b1be-b7f0b48e348e",
   "metadata": {},
   "outputs": [
    {
     "name": "stdout",
     "output_type": "stream",
     "text": [
      "Animal is speaking\n",
      "Dog is barking\n"
     ]
    }
   ],
   "source": [
    "#Single Inheritance\n",
    "class Animal:\n",
    "    def speak(self):\n",
    "        print(\"Animal is speaking\")\n",
    "\n",
    "class Dog(Animal):\n",
    "    def bark(self):\n",
    "        print(\"Dog is barking\")\n",
    "\n",
    "d = Dog()\n",
    "d.speak() \n",
    "d.bark()   "
   ]
  },
  {
   "cell_type": "code",
   "execution_count": 6,
   "id": "78e2c642-ecc9-489c-abfb-f596bf7f4bf6",
   "metadata": {},
   "outputs": [
    {
     "name": "stdout",
     "output_type": "stream",
     "text": [
      "Class A - Method 1\n",
      "Class B - Method 2\n",
      "Class C - Method 3\n"
     ]
    }
   ],
   "source": [
    "#Multiple Inheritance\n",
    "class A:\n",
    "    def method1(self):\n",
    "        print(\"Class A - Method 1\")\n",
    "\n",
    "class B:\n",
    "    def method2(self):\n",
    "        print(\"Class B - Method 2\")\n",
    "\n",
    "class C(A, B):\n",
    "    def method3(self):\n",
    "        print(\"Class C - Method 3\")\n",
    "\n",
    "c = C()\n",
    "c.method1()  \n",
    "c.method2()  \n",
    "c.method3()  "
   ]
  },
  {
   "cell_type": "code",
   "execution_count": 7,
   "id": "7c7f9526-dd9b-45e3-a1ab-91d93d6b0731",
   "metadata": {},
   "outputs": [
    {
     "name": "stdout",
     "output_type": "stream",
     "text": [
      "Class A - Method 1\n",
      "Class B - Method 2\n",
      "Class C - Method 3\n"
     ]
    }
   ],
   "source": [
    "#Multi level Inheritance\n",
    "class A:\n",
    "    def method1(self):\n",
    "        print(\"Class A - Method 1\")\n",
    "\n",
    "class B(A):\n",
    "    def method2(self):\n",
    "        print(\"Class B - Method 2\")\n",
    "\n",
    "class C(B):\n",
    "    def method3(self):\n",
    "        print(\"Class C - Method 3\")\n",
    "\n",
    "c = C()\n",
    "c.method1()  \n",
    "c.method2()  \n",
    "c.method3()  "
   ]
  },
  {
   "cell_type": "code",
   "execution_count": 9,
   "id": "3036e563-df47-470d-b3e9-e934a48ddb2d",
   "metadata": {},
   "outputs": [
    {
     "name": "stdout",
     "output_type": "stream",
     "text": [
      "Animal is speaking\n",
      "Dog is barking\n",
      "Animal is speaking\n"
     ]
    }
   ],
   "source": [
    "#Hierarchical Inheritance\n",
    "class Animal:\n",
    "    def speak(self):\n",
    "        print(\"Animal is speaking\")\n",
    "\n",
    "class Dog(Animal):\n",
    "    def bark(self):\n",
    "        print(\"Dog is barking\")\n",
    "\n",
    "class Cat(Animal):\n",
    "    def meow(self):\n",
    "        print(\"Cat is meowing\")\n",
    "\n",
    "d = Dog()\n",
    "d.speak()  \n",
    "d.bark()   \n",
    "\n",
    "c = Cat()\n",
    "c.speak()"
   ]
  },
  {
   "cell_type": "code",
   "execution_count": null,
   "id": "72c20100-cd76-4846-a9d2-9c143b7a64e6",
   "metadata": {},
   "outputs": [],
   "source": []
  }
 ],
 "metadata": {
  "kernelspec": {
   "display_name": "Python 3 (ipykernel)",
   "language": "python",
   "name": "python3"
  },
  "language_info": {
   "codemirror_mode": {
    "name": "ipython",
    "version": 3
   },
   "file_extension": ".py",
   "mimetype": "text/x-python",
   "name": "python",
   "nbconvert_exporter": "python",
   "pygments_lexer": "ipython3",
   "version": "3.10.8"
  }
 },
 "nbformat": 4,
 "nbformat_minor": 5
}
