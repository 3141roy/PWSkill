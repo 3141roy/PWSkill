{
 "cells": [
  {
   "cell_type": "markdown",
   "id": "e05f44fb-fbd9-445c-8661-6d9a4665f31b",
   "metadata": {
    "jp-MarkdownHeadingCollapsed": true,
    "tags": []
   },
   "source": [
    "##### Explain with an example each when to use a for loop and a while loop."
   ]
  },
  {
   "cell_type": "markdown",
   "id": "a171c444-a868-45f1-8412-024d626b0fca",
   "metadata": {},
   "source": [
    "A for loop is used when number of iterations is known beforehand along with the increment sizes but a While loop is used when number of iterations is not known beforehand. Traditionally while loops are associated with iterative input based problems\n",
    "\n",
    "Eg : A program that returns the sum of first 10 numbers can use both For and While as we know all details of the iterartion beforehand.\n",
    "\n",
    "But if we want a program that adds all numbers entered by the user untill the user enters -1 we need a While loop as we do not know how many numbers will the user enter before typing -1. Thus, the number of iterations is unknown and using a while loop is our option"
   ]
  },
  {
   "cell_type": "markdown",
   "id": "3ad9e7be-6331-4fa2-bd3d-ba0849520cee",
   "metadata": {
    "jp-MarkdownHeadingCollapsed": true,
    "tags": []
   },
   "source": [
    "##### Write a python program to print the sum and product of the first 10 natural numbers using for and while loop."
   ]
  },
  {
   "cell_type": "code",
   "execution_count": 5,
   "id": "89a2e291-7747-456d-b28c-5174131cb0ac",
   "metadata": {},
   "outputs": [
    {
     "name": "stdout",
     "output_type": "stream",
     "text": [
      "Sum is  55\n",
      "Product is  3628800\n"
     ]
    }
   ],
   "source": [
    "#For\n",
    "s=0\n",
    "p=1\n",
    "for i in range(1,11):\n",
    "    s = s+i\n",
    "    p = p*i\n",
    "    \n",
    "print('Sum is ', s)\n",
    "print('Product is ',p)"
   ]
  },
  {
   "cell_type": "code",
   "execution_count": 8,
   "id": "41b2f06d-a91d-4f5f-bba4-f5aa409dca86",
   "metadata": {},
   "outputs": [
    {
     "name": "stdout",
     "output_type": "stream",
     "text": [
      "Sum is  55\n",
      "Product is  3628800\n"
     ]
    }
   ],
   "source": [
    "#While\n",
    "i=1\n",
    "s=0\n",
    "p=1\n",
    "while(i<=10):\n",
    "    s = s+i\n",
    "    p = p*i\n",
    "    i = i+1\n",
    "    \n",
    "print('Sum is ', s)\n",
    "print('Product is ',p)"
   ]
  },
  {
   "cell_type": "markdown",
   "id": "680d34b6-df8b-42a6-b83f-28e3c90f1e35",
   "metadata": {
    "jp-MarkdownHeadingCollapsed": true,
    "tags": []
   },
   "source": [
    "##### Create a python program to compute the electricity bill for a household. The per-unit charges in rupees are as follows: For the first 100 units, the user will be charged Rs. 4.5 per unit, for the next 100 units, the user will be charged Rs. 6 per unit, and for the next 100 units, the user will be charged Rs. 10 per unit, After 300 units and above the user will be charged Rs. 20 per unit. You are required to take the units of electricity consumed in a month from the user as input. Your program must pass this test case: when the unit of electricity consumed by the user in a month is 310, the total electricity bill should be 2250."
   ]
  },
  {
   "cell_type": "code",
   "execution_count": 14,
   "id": "f0c00a6c-79f8-4657-80ac-1b6de489fae6",
   "metadata": {},
   "outputs": [
    {
     "name": "stdin",
     "output_type": "stream",
     "text": [
      " 310\n"
     ]
    },
    {
     "name": "stdout",
     "output_type": "stream",
     "text": [
      "2250\n"
     ]
    }
   ],
   "source": [
    "unit = int(input())\n",
    "\n",
    "if(unit<=100):\n",
    "    print(4.5*unit)\n",
    "elif(unit<=200):\n",
    "    print(450 + (unit-100)*6)\n",
    "elif(unit<=300):\n",
    "    print(450+600+(unit-200)*10)\n",
    "else:\n",
    "    print(450+600+1000+(unit-300)*20)\n",
    "    "
   ]
  },
  {
   "cell_type": "markdown",
   "id": "b676176f-1b73-4171-a2ab-877ef33b516d",
   "metadata": {
    "jp-MarkdownHeadingCollapsed": true,
    "tags": []
   },
   "source": [
    "##### Create a list of numbers from 1 to 100. Use for loop and while loop to calculate the cube of each number and if the cube of that number is divisible by 4 or 5 then append that number in a list and print that list."
   ]
  },
  {
   "cell_type": "code",
   "execution_count": 20,
   "id": "6a836e49-d9e4-4dc2-be35-cb8aab738290",
   "metadata": {},
   "outputs": [
    {
     "name": "stdout",
     "output_type": "stream",
     "text": [
      "[2, 4, 5, 6, 8, 10, 12, 14, 15, 16, 18, 20, 22, 24, 25, 26, 28, 30, 32, 34, 35, 36, 38, 40, 42, 44, 45, 46, 48, 50, 52, 54, 55, 56, 58, 60, 62, 64, 65, 66, 68, 70, 72, 74, 75, 76, 78, 80, 82, 84, 85, 86, 88, 90, 92, 94, 95, 96, 98, 100]\n"
     ]
    }
   ],
   "source": [
    "x = list(range(1,101))\n",
    "\n",
    "l1 = []\n",
    "for i in x:\n",
    "    z = i*i*i\n",
    "    if(z%4==0 or z%5==0):\n",
    "        l1.append(i)\n",
    "\n",
    "print(l1)"
   ]
  },
  {
   "cell_type": "code",
   "execution_count": 23,
   "id": "f7c437bf-6649-4f3e-902f-5304ea82e336",
   "metadata": {},
   "outputs": [
    {
     "name": "stdout",
     "output_type": "stream",
     "text": [
      "[2, 4, 5, 6, 8, 10, 12, 14, 15, 16, 18, 20, 22, 24, 25, 26, 28, 30, 32, 34, 35, 36, 38, 40, 42, 44, 45, 46, 48, 50, 52, 54, 55, 56, 58, 60, 62, 64, 65, 66, 68, 70, 72, 74, 75, 76, 78, 80, 82, 84, 85, 86, 88, 90, 92, 94, 95, 96, 98, 100]\n"
     ]
    }
   ],
   "source": [
    "i=1\n",
    "l2 = []\n",
    "while(i<=100):\n",
    "    z = i*i*i\n",
    "    if(z%4==0 or z%5==0):\n",
    "        l2.append(i)\n",
    "    i+=1\n",
    "print(l2)    "
   ]
  },
  {
   "cell_type": "markdown",
   "id": "f3558e95-691f-4b20-93db-e2f754c3e899",
   "metadata": {},
   "source": [
    "##### Write a program to filter count vowels in the below-given string. string = \"I want to become a data scientist\""
   ]
  },
  {
   "cell_type": "code",
   "execution_count": 24,
   "id": "bd7b4f58-67c9-4417-95ec-c0a31e262eae",
   "metadata": {},
   "outputs": [
    {
     "name": "stdin",
     "output_type": "stream",
     "text": [
      " Hi A\n"
     ]
    },
    {
     "ename": "AttributeError",
     "evalue": "'str' object has no attribute 'toLower'",
     "output_type": "error",
     "traceback": [
      "\u001b[0;31m---------------------------------------------------------------------------\u001b[0m",
      "\u001b[0;31mAttributeError\u001b[0m                            Traceback (most recent call last)",
      "Cell \u001b[0;32mIn[24], line 4\u001b[0m\n\u001b[1;32m      2\u001b[0m x \u001b[38;5;241m=\u001b[39m \u001b[38;5;28minput\u001b[39m()\n\u001b[1;32m      3\u001b[0m c\u001b[38;5;241m=\u001b[39m\u001b[38;5;241m0\u001b[39m\n\u001b[0;32m----> 4\u001b[0m x \u001b[38;5;241m=\u001b[39m \u001b[43mx\u001b[49m\u001b[38;5;241;43m.\u001b[39;49m\u001b[43mtoLower\u001b[49m()\n\u001b[1;32m      5\u001b[0m \u001b[38;5;28;01mfor\u001b[39;00m i \u001b[38;5;129;01min\u001b[39;00m x:\n\u001b[1;32m      6\u001b[0m     \u001b[38;5;28;01mif\u001b[39;00m( i \u001b[38;5;129;01min\u001b[39;00m vowels):\n",
      "\u001b[0;31mAttributeError\u001b[0m: 'str' object has no attribute 'toLower'"
     ]
    }
   ],
   "source": [
    "vowels = [\"a\", \"e\", \"i\", \"o\", \"u\"]\n",
    "x = input()\n",
    "c=0\n",
    "x = x.;ower()\n",
    "for i in x:\n",
    "    if( i in vowels):\n",
    "        c+=1\n",
    "print(c)"
   ]
  },
  {
   "cell_type": "code",
   "execution_count": null,
   "id": "3109e854-5a99-4cbd-9b9f-040228c8bf40",
   "metadata": {},
   "outputs": [],
   "source": []
  }
 ],
 "metadata": {
  "kernelspec": {
   "display_name": "Python 3 (ipykernel)",
   "language": "python",
   "name": "python3"
  },
  "language_info": {
   "codemirror_mode": {
    "name": "ipython",
    "version": 3
   },
   "file_extension": ".py",
   "mimetype": "text/x-python",
   "name": "python",
   "nbconvert_exporter": "python",
   "pygments_lexer": "ipython3",
   "version": "3.10.8"
  }
 },
 "nbformat": 4,
 "nbformat_minor": 5
}
