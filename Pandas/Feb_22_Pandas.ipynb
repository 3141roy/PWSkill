{
 "cells": [
  {
   "cell_type": "markdown",
   "id": "e0b830d4-028e-4c61-b9bd-0fb4f1b67877",
   "metadata": {},
   "source": [
    "#### Q1. Create a Pandas Series that contains the following data: 4, 8, 15, 16, 23, and 42. Then, print the series."
   ]
  },
  {
   "cell_type": "code",
   "execution_count": 1,
   "id": "2d6ccdec-5398-48ca-a090-83fc723ace55",
   "metadata": {},
   "outputs": [
    {
     "name": "stdout",
     "output_type": "stream",
     "text": [
      "    0\n",
      "0   4\n",
      "1   8\n",
      "2  15\n",
      "3  16\n",
      "4  23\n",
      "5  42\n"
     ]
    }
   ],
   "source": [
    "import pandas as pd \n",
    "data = [4, 8, 15, 16, 23, 42]\n",
    "df = pd.DataFrame(data)\n",
    "print(df)"
   ]
  },
  {
   "cell_type": "markdown",
   "id": "3b58c7bc-239e-49b5-9132-94399c4086db",
   "metadata": {},
   "source": [
    "#### Q2. Create a variable of list type containing 10 elements in it, and apply pandas.Series function on the variable print it."
   ]
  },
  {
   "cell_type": "code",
   "execution_count": 2,
   "id": "19389fcc-8b1a-457d-9246-78e613fca26c",
   "metadata": {},
   "outputs": [
    {
     "name": "stdout",
     "output_type": "stream",
     "text": [
      "    0\n",
      "0  11\n",
      "1  12\n",
      "2  13\n",
      "3  14\n",
      "4  15\n",
      "5  16\n",
      "6  17\n",
      "7  18\n",
      "8  19\n",
      "9  20\n"
     ]
    }
   ],
   "source": [
    "data =  [11,12,13,14,15,16,17,18,19,20]\n",
    "df = pd.DataFrame(data)\n",
    "print(df)"
   ]
  },
  {
   "attachments": {
    "3c78ab8c-773f-40f7-b71c-1fba7a4a473e.png": {
     "image/png": "[encoded data removed]"
    }
   },
   "cell_type": "markdown",
   "id": "f1517826-2ca5-4032-8a16-f1574701145c",
   "metadata": {},
   "source": [
    "#### Q3. Create a Pandas DataFrame that contains the following data:\n",
    "![image.png](attachment:3c78ab8c-773f-40f7-b71c-1fba7a4a473e.png)\n",
    "\n",
    "Then, print the DataFrame."
   ]
  },
  {
   "cell_type": "code",
   "execution_count": 3,
   "id": "4aa95b90-6b64-4c54-8dff-6a696482004b",
   "metadata": {},
   "outputs": [
    {
     "name": "stdout",
     "output_type": "stream",
     "text": [
      "     Name  Age  Gender\n",
      "0   Alice   25  Female\n",
      "1     Bob   30    Male\n",
      "2  Claire   27  Female\n"
     ]
    }
   ],
   "source": [
    "data = {'Name': ['Alice' ,  'Bob' ,  'Claire'],\n",
    "\n",
    "        'Age': [25, 30, 27],\n",
    "\n",
    "        'Gender': ['Female', 'Male', 'Female']}\n",
    "df = pd.DataFrame(data)\n",
    "print(df)"
   ]
  },
  {
   "cell_type": "markdown",
   "id": "4dc862e9-308b-4a60-b2ca-08b5c0327a83",
   "metadata": {},
   "source": [
    "#### Q4. What is ‘DataFrame’ in pandas and how is it different from pandas.series? Explain with an example."
   ]
  },
  {
   "cell_type": "markdown",
   "id": "ecc5c581-9dba-424a-8494-ef283e5e22df",
   "metadata": {},
   "source": [
    "In Pandas, a DataFrame is a two-dimensional labeled data structure with columns of potentially different types. It is similar to a spreadsheet or SQL table, where data is arranged in rows and columns. The DataFrame is the primary object in Pandas, and it can be thought of as a dictionary of Series objects, where each column of the DataFrame is a Series.\n",
    "\n",
    "On the other hand, a Series is a one-dimensional labeled array that can hold any data type, such as integers, floats, strings, etc. It is similar to a column in a spreadsheet or a database table."
   ]
  },
  {
   "cell_type": "code",
   "execution_count": 6,
   "id": "6a4da30c-db0b-4935-ba8f-06e16d031d2a",
   "metadata": {},
   "outputs": [
    {
     "name": "stdout",
     "output_type": "stream",
     "text": [
      "<class 'pandas.core.series.Series'>\n"
     ]
    },
    {
     "data": {
      "text/plain": [
       "0    25\n",
       "1    30\n",
       "2    27\n",
       "Name: Age, dtype: int64"
      ]
     },
     "execution_count": 6,
     "metadata": {},
     "output_type": "execute_result"
    }
   ],
   "source": [
    "#We can access each column of a Data Frame as a series\n",
    "\n",
    "Age = df['Age']\n",
    "print(type(Age))\n",
    "Age"
   ]
  },
  {
   "cell_type": "markdown",
   "id": "613674cb-c437-4dba-91a7-4c5684b67430",
   "metadata": {},
   "source": [
    "#### Q5. What are some common functions you can use to manipulate data in a Pandas DataFrame? Can you give an example of when you might use one of these functions?"
   ]
  },
  {
   "cell_type": "markdown",
   "id": "c9c5c791-2075-40f4-9683-2d9e8dea9e8a",
   "metadata": {},
   "source": [
    "1. drop() - This function is used to remove one or more columns or rows from the DataFrame. For example, if we have a DataFrame called df and we want to drop a column called 'Age', we can use the following code: df.drop('Age', axis=1, inplace=True). The axis=1 argument specifies that we are dropping a column and the inplace=True argument ensures that the original DataFrame is modified instead of creating a new one.\n",
    "\n",
    "2. fillna() - This function is used to replace missing values in the DataFrame. For example, if we have a DataFrame called df and we want to replace all missing values with 0, we can use the following code: df.fillna(0, inplace=True). The inplace=True argument ensures that the original DataFrame is modified instead of creating a new one.\n",
    "\n",
    "3. groupby() - This function is used to group the data in the DataFrame based on one or more columns. For example, if we have a DataFrame called df with columns 'Gender' and 'Salary', we can use the following code to group the data based on Gender and calculate the average Salary for each group: df.groupby('Gender')['Salary'].mean(). This will return a new DataFrame with two columns, 'Gender' and 'Salary', where the 'Salary' column contains the average salary for each gender.\n",
    "\n",
    "4. merge() - This function is used to merge two or more DataFrames into a single DataFrame. For example, if we have two DataFrames called df1 and df2 with columns 'ID' and 'Name', we can use the following code to merge the two DataFrames based on the 'ID' column: merged_df = pd.merge(df1, df2, on='ID'). This will create a new DataFrame called merged_df with columns 'ID', 'Name_x', and 'Name_y', where 'Name_x' and 'Name_y' contain the names from the two original DataFrames.\n",
    "\n",
    "5. apply() - This function is used to apply a function to one or more columns in the DataFrame. For example, if we have a DataFrame called df with a column 'Age', we can use the following code to apply a function called calculate_years to the 'Age' column and create a new column called 'Years': df['Years'] = df['Age'].apply(calculate_years). This will create a new column called 'Years' in the DataFrame, where each value is calculated using the calculate_years function."
   ]
  },
  {
   "cell_type": "markdown",
   "id": "5034ddb1-14e4-4825-a9eb-c21788a038b2",
   "metadata": {},
   "source": [
    "#### Q6. Which of the following is mutable in nature Series, DataFrame, Panel?"
   ]
  },
  {
   "cell_type": "markdown",
   "id": "293633f7-8afd-4bc3-b302-6f6cdcbf3f68",
   "metadata": {},
   "source": [
    "Both Series and DataFrame are mutable in nature, meaning that their values can be modified after creation. Panel, on the other hand, is deprecated and replaced by other data structures such as MultiIndex or xarray, and is not mutable."
   ]
  },
  {
   "cell_type": "markdown",
   "id": "61d70944-4edf-4b07-91c3-3960352993f8",
   "metadata": {},
   "source": [
    "#### Q7. Create a DataFrame using multiple Series. Explain with an example."
   ]
  },
  {
   "cell_type": "code",
   "execution_count": 8,
   "id": "0bc5a95c-fb83-4204-bccf-ea9131983413",
   "metadata": {},
   "outputs": [
    {
     "name": "stdout",
     "output_type": "stream",
     "text": [
      "     Name  Age  Gender\n",
      "0   Alice   25  Female\n",
      "1     Bob   30    Male\n",
      "2  Claire   27  Female\n"
     ]
    }
   ],
   "source": [
    "names = pd.Series(['Alice', 'Bob', 'Claire'])\n",
    "ages = pd.Series([25, 30, 27])\n",
    "genders = pd.Series(['Female', 'Male','Female'])\n",
    "\n",
    "df = pd.DataFrame({'Name': names, 'Age': ages, 'Gender': genders})\n",
    "\n",
    "print(df)"
   ]
  },
  {
   "cell_type": "code",
   "execution_count": null,
   "id": "31120966-8675-4302-bf3f-efd85c9bc1af",
   "metadata": {},
   "outputs": [],
   "source": []
  }
 ],
 "metadata": {
  "kernelspec": {
   "display_name": "Python 3 (ipykernel)",
   "language": "python",
   "name": "python3"
  },
  "language_info": {
   "codemirror_mode": {
    "name": "ipython",
    "version": 3
   },
   "file_extension": ".py",
   "mimetype": "text/x-python",
   "name": "python",
   "nbconvert_exporter": "python",
   "pygments_lexer": "ipython3",
   "version": "3.10.8"
  }
 },
 "nbformat": 4,
 "nbformat_minor": 5
}
