{
 "cells": [
  {
   "cell_type": "markdown",
   "id": "635d3a15-2b20-4267-9a97-6345bb2d8fd7",
   "metadata": {},
   "source": [
    "#### Q1. What are the three measures of central tendency?"
   ]
  },
  {
   "cell_type": "markdown",
   "id": "7846e0a7-1880-4f64-8cf5-f18d4a5cf7d0",
   "metadata": {},
   "source": [
    "1. Mean: The mean is the average of a set of values. It is calculated by summing all the values in a dataset and then dividing the sum by the total number of terms taken in consideration.\n",
    "\n",
    "2. Median: The median is the middle value in a dataset when the values are arranged in ascending or descending order. If the dataset has an even number of values, the median is calculated by taking the average of the two middle values.\n",
    "\n",
    "3. Mode: The mode is the value that appears most frequently in a dataset. If there are multiple values that appear with the same frequency, then the dataset is said to have multiple modes."
   ]
  },
  {
   "cell_type": "markdown",
   "id": "0fc2da08-d3ae-4aa6-bc64-636efb0803de",
   "metadata": {},
   "source": [
    "#### Q2. What is the difference between the mean, median, and mode? How are they used to measure the central tendency of a dataset?"
   ]
  },
  {
   "cell_type": "markdown",
   "id": "8e4e973b-f637-45e5-9326-43139cedfb18",
   "metadata": {},
   "source": [
    "Mean: The mean is the average value of a dataset. It is calculated by adding up all the values in the dataset and dividing by the number of values. The mean is sensitive to outliers, as extreme values can greatly affect its value.\n",
    "\n",
    "Median: The median is the middle value in a dataset. It is calculated by ordering the values in the dataset from smallest to largest, and then finding the value that falls in the middle. If there are an even number of values in the dataset, the median is the average of the two middle values. The median is not affected by outliers, as it only considers the middle value(s).\n",
    "\n",
    "Mode: The mode is the value that occurs most frequently in a dataset. It is calculated by finding the value that appears most often in the dataset. There can be more than one mode, or no mode at all. The mode is useful for datasets with categorical or discrete variables."
   ]
  },
  {
   "cell_type": "markdown",
   "id": "42bbfa5b-b4ef-4ffc-bb4c-62ac0d8df29b",
   "metadata": {},
   "source": [
    "#### Q3. Measure the three measures of central tendency for the given height data:\n",
    "[178,177,176,177,178.2,178,175,179,180,175,178.9,176.2,177,172.5,178,176.5]"
   ]
  },
  {
   "cell_type": "code",
   "execution_count": 2,
   "id": "d82609d5-907f-4668-8c5f-418e339c08b5",
   "metadata": {},
   "outputs": [],
   "source": [
    "import statistics \n",
    "\n",
    "data = [178,177,176,177,178.2,178,175,179,180,175,178.9,176.2,177,172.5,178,176.5]\n",
    "\n",
    "mean_ = statistics.mean(data)\n",
    "median_ = statistics.median(data)\n",
    "mode_ = statistics.mode(data)"
   ]
  },
  {
   "cell_type": "code",
   "execution_count": 4,
   "id": "baa8fb25-8d7d-4716-b8c0-0c04aa956779",
   "metadata": {},
   "outputs": [
    {
     "data": {
      "text/plain": [
       "177.01875"
      ]
     },
     "execution_count": 4,
     "metadata": {},
     "output_type": "execute_result"
    }
   ],
   "source": [
    "mean_"
   ]
  },
  {
   "cell_type": "code",
   "execution_count": 5,
   "id": "82aff064-cdb3-4125-8418-f7fcd636b7f7",
   "metadata": {},
   "outputs": [
    {
     "data": {
      "text/plain": [
       "177.0"
      ]
     },
     "execution_count": 5,
     "metadata": {},
     "output_type": "execute_result"
    }
   ],
   "source": [
    "median_"
   ]
  },
  {
   "cell_type": "code",
   "execution_count": 6,
   "id": "1ee224b8-4eed-4d5c-ac12-566a438b6c84",
   "metadata": {},
   "outputs": [
    {
     "data": {
      "text/plain": [
       "178"
      ]
     },
     "execution_count": 6,
     "metadata": {},
     "output_type": "execute_result"
    }
   ],
   "source": [
    "mode_"
   ]
  },
  {
   "cell_type": "markdown",
   "id": "bd0092da-3955-48d0-863f-e00442494e73",
   "metadata": {},
   "source": [
    "#### Q4. Find the standard deviation for the given data:\n",
    "[178,177,176,177,178.2,178,175,179,180,175,178.9,176.2,177,172.5,178,176.5]"
   ]
  },
  {
   "cell_type": "code",
   "execution_count": 8,
   "id": "07313118-7d25-4847-952e-e359e27c4540",
   "metadata": {},
   "outputs": [
    {
     "data": {
      "text/plain": [
       "1.8472389305844188"
      ]
     },
     "execution_count": 8,
     "metadata": {},
     "output_type": "execute_result"
    }
   ],
   "source": [
    "statistics.stdev(data)"
   ]
  },
  {
   "cell_type": "markdown",
   "id": "bb5c6929-7f56-4ce3-a4d6-1d4745a70b90",
   "metadata": {},
   "source": [
    "#### Q5. How are measures of dispersion such as range, variance, and standard deviation used to describe the spread of a dataset? Provide an example."
   ]
  },
  {
   "cell_type": "markdown",
   "id": "5e639fe4-3f23-4b47-aebc-3b39a170d6d7",
   "metadata": {},
   "source": [
    "Measures of dispersion are used to describe the extent to which data values deviate from the central tendency of a dataset. Some commonly used measures of dispersion include range, variance, and standard deviation.\n",
    "\n",
    "Range is the simplest measure of dispersion and is simply the difference between the largest and smallest values in a dataset. It provides a rough estimate of the spread of the data, but it is sensitive to outliers and is not very robust.\n",
    "\n",
    "Variance is a more robust measure of dispersion that measures the average squared deviation of each data point from the mean of the dataset. It takes into account all the values in the dataset and is less sensitive to outliers than range. The formula for variance is:\n",
    "\n",
    "variance = (Σ(xi - x̄)²) / (n - 1)\n",
    "\n",
    "where xi is the ith data point, x̄ is the mean of the dataset, and n is the sample size.\n",
    "\n",
    "Standard deviation is the square root of the variance and is measured in the same units as the original data. It is a commonly used measure of dispersion because it is easy to interpret and is less sensitive to outliers than range. The formula for standard deviation is:\n",
    "\n",
    "standard deviation = √(Σ(xi - x̄)² / (n - 1))\n",
    "\n",
    "For example, consider a dataset of exam scores for a class of 20 students:\n",
    "\n",
    "{72, 80, 85, 90, 92, 95, 96, 97, 98, 98, 99, 99, 99, 99, 99, 100, 100, 100, 100, 100}\n",
    "\n",
    "The mean of this dataset is 93.2, the range is 28, the variance is 66.84, and the standard deviation is 8.17. The variance and standard deviation indicate that the exam scores are relatively tightly clustered around the mean, with relatively few outliers.\n",
    "\n",
    "\n",
    "\n",
    "\n"
   ]
  },
  {
   "cell_type": "markdown",
   "id": "a6290eb9-452a-4654-983d-62a0d6f9324e",
   "metadata": {},
   "source": [
    "#### Q6. What is a Venn diagram?"
   ]
  },
  {
   "cell_type": "markdown",
   "id": "93564e5d-fba9-44ae-9cd1-ffe6d88cc067",
   "metadata": {},
   "source": [
    "A Venn diagram is a graphical representation of the relationships between different sets of data. It consists of overlapping circles, each representing a set, and the area where the circles overlap represents the elements that are common to both sets. Venn diagrams are commonly used in mathematics, logic, statistics, and computer science to visually illustrate set theory concepts, logical relationships, and data comparisons. They are also used in business and marketing to analyze customer demographics and market segments. Venn diagrams can be useful for organizing and presenting complex information in a simple and easy-to-understand way."
   ]
  },
  {
   "cell_type": "markdown",
   "id": "2277576c-f8b8-41a2-9d30-37aa5b953576",
   "metadata": {},
   "source": [
    "#### Q7. For the two given sets A = (2,3,4,5,6,7) & B = (0,2,6,8,10). Find:\n",
    "(i) A B\n",
    "(ii) A ⋃ B"
   ]
  },
  {
   "cell_type": "code",
   "execution_count": 9,
   "id": "aec8d89e-8bd7-4e40-adde-5b87af853b8c",
   "metadata": {},
   "outputs": [
    {
     "name": "stdout",
     "output_type": "stream",
     "text": [
      "{2, 6}\n",
      "{0, 2, 3, 4, 5, 6, 7, 8, 10}\n"
     ]
    }
   ],
   "source": [
    "A = {2, 3, 4, 5, 6, 7}\n",
    "B = {0, 2, 6, 8, 10}\n",
    "\n",
    "\n",
    "i = A.intersection(B)\n",
    "print(i)\n",
    "\n",
    "u = A.union(B)\n",
    "print(u)"
   ]
  },
  {
   "cell_type": "markdown",
   "id": "5e72b56b-c058-45d3-8906-7b86cf5b807c",
   "metadata": {},
   "source": [
    "#### Q8. What do you understand about skewness in data?"
   ]
  },
  {
   "cell_type": "markdown",
   "id": "e919c0f2-8a81-471d-a4c0-54aac57d2134",
   "metadata": {},
   "source": [
    "In statistics, skewness is a measure of the asymmetry of a probability distribution. Skewness refers to the degree to which the data is not symmetrically distributed around the mean. It indicates whether the data is skewed to the left or to the right of the mean.\n",
    "\n",
    "If a distribution is symmetrical, then it has zero skewness. If the tail of the distribution is longer on the right side than on the left side, then the distribution is said to be positively skewed, and it has a positive skewness. On the other hand, if the tail of the distribution is longer on the left side than on the right side, then the distribution is said to be negatively skewed, and it has a negative skewness."
   ]
  },
  {
   "cell_type": "markdown",
   "id": "c5bd3c6f-17cc-41dc-896c-7ef8dc0cfed6",
   "metadata": {},
   "source": [
    "#### Q9. If a data is right skewed then what will be the position of median with respect to mean?"
   ]
  },
  {
   "cell_type": "markdown",
   "id": "08ba46f3-e086-477e-aebe-72bf9783885d",
   "metadata": {},
   "source": [
    "If a data set is right-skewed, it means that the tail of the distribution is longer on the right side, and the data is concentrated on the left side of the distribution. In this case, the mean is greater than the median.\n",
    "\n",
    "To understand why this is the case, consider a right-skewed distribution like income. In this distribution, there are a small number of individuals who earn very high incomes, which pull the mean to the right. However, most people earn lower incomes, so the median is not as affected by the high earners and remains closer to the center of the distribution.\n",
    "\n",
    "Therefore, the median will be to the left of the mean in a right-skewed distribution."
   ]
  },
  {
   "cell_type": "markdown",
   "id": "1b62adec-b49a-431c-a493-8a353b8130fd",
   "metadata": {},
   "source": [
    "#### Q10. Explain the difference between covariance and correlation. How are these measures used in statistical analysis?"
   ]
  },
  {
   "cell_type": "markdown",
   "id": "a4348961-0ec0-43b2-b85f-2f6095e74192",
   "metadata": {},
   "source": [
    "Covariance and correlation are two statistical measures that are used to quantify the relationship between two variables.\n",
    "\n",
    "Covariance is a measure of how two variables vary together. It measures the degree to which two variables are linearly related. A positive covariance indicates that the two variables move in the same direction, while a negative covariance indicates that they move in opposite directions. However, the magnitude of covariance does not have a standardized scale and it can be affected by the scale of the variables being measured.\n",
    "\n",
    "Correlation, on the other hand, is a measure of the strength and direction of the linear relationship between two variables. Correlation ranges from -1 to +1, where -1 indicates a perfect negative correlation, 0 indicates no correlation, and +1 indicates a perfect positive correlation. Correlation is standardized, which means that it is not affected by the scale of the variables being measured.\n",
    "\n",
    "In statistical analysis, covariance and correlation are used to assess the relationship between two variables. They help to identify patterns and trends in the data, and to determine the strength and direction of the relationship between the variables. They are also used to test hypotheses and to make predictions about the behavior of the variables."
   ]
  },
  {
   "cell_type": "markdown",
   "id": "46ebdd10-25d5-457d-80d4-c2ddd8db3f8d",
   "metadata": {},
   "source": [
    "#### Q11. What is the formula for calculating the sample mean? Provide an example calculation for a dataset."
   ]
  },
  {
   "cell_type": "markdown",
   "id": "a0f54394-d346-42a7-8d99-8367404dd913",
   "metadata": {},
   "source": [
    "The formula for calculating the sample mean, denoted by \"x̄\", is:\n",
    "\n",
    "x̄ = (sum of all values in the sample) / (number of values in the sample)\n",
    "\n",
    "For example, let's consider the following dataset:\n",
    "\n",
    "5, 7, 3, 8, 4\n",
    "\n",
    "To calculate the sample mean of this dataset, we need to add up all the values in the dataset and then divide by the number of values (which is 5 in this case):\n",
    "\n",
    "x̄ = (5 + 7 + 3 + 8 + 4) / 5\n",
    "x̄ = 27 / 5\n",
    "x̄ = 5.4\n",
    "\n",
    "Therefore, the sample mean of this dataset is 5.4."
   ]
  },
  {
   "cell_type": "markdown",
   "id": "7412860d-c3b9-41e2-bc47-8bb16e79309e",
   "metadata": {},
   "source": [
    "#### Q12. For a normal distribution data what is the relationship between its measure of central tendency?"
   ]
  },
  {
   "cell_type": "markdown",
   "id": "730c4fd4-ecb1-4fbc-903a-43aa034e8f02",
   "metadata": {},
   "source": [
    "For a normal distribution, the measures of central tendency, namely the mean, median, and mode, are all equal. In other words, they have the same value.\n",
    "\n",
    "This is because a normal distribution is a symmetric distribution, with equal amounts of data on both sides of the mean. The median, which is the middle value of the dataset, is also the same as the mean in a normal distribution.\n",
    "\n",
    "Additionally, the mode, which is the value that occurs most frequently in the dataset, is also equal to the mean and median in a normal distribution.\n",
    "\n",
    "Therefore, for a normal distribution, the mean, median, and mode are all the same value, and they all represent the center or midpoint of the distribution."
   ]
  },
  {
   "cell_type": "markdown",
   "id": "5c57858d-3c6b-4067-8bef-1fb58022c3b9",
   "metadata": {},
   "source": [
    "#### Q13. How is covariance different from correlation?"
   ]
  },
  {
   "cell_type": "markdown",
   "id": "34ab1547-d06d-48d6-ae6c-f852dea5570b",
   "metadata": {},
   "source": [
    "Covariance and correlation are both statistical measures that describe the relationship between two variables, but they differ in several important ways.\n",
    "\n",
    "Range: The range of covariance is unbounded, which means it can take on any value. In contrast, the range of correlation is between -1 and +1.\n",
    "\n",
    "Standardization: Covariance is not standardized, which means it is affected by the scale of the variables being measured. Correlation, on the other hand, is standardized, which means it is not affected by the scale of the variables.\n",
    "\n",
    "Interpretation: Covariance measures the direction and strength of the linear relationship between two variables. A positive covariance indicates a positive relationship between the variables, while a negative covariance indicates a negative relationship. However, it does not provide any information about the strength of the relationship. Correlation, on the other hand, provides information about both the direction and strength of the linear relationship between two variables.\n",
    "\n",
    "Units: Covariance is measured in units that are the product of the units of the two variables being measured. Correlation is unitless."
   ]
  },
  {
   "cell_type": "markdown",
   "id": "bf58f8cb-b1c0-47b0-b180-a2e177598ebc",
   "metadata": {},
   "source": [
    "#### Q14. How do outliers affect measures of central tendency and dispersion? Provide an example."
   ]
  },
  {
   "cell_type": "markdown",
   "id": "6f2a2fef-1f55-405f-9846-693c04d937b3",
   "metadata": {},
   "source": [
    "Outliers can have a significant impact on measures of central tendency and dispersion. Measures of central tendency, such as the mean and median, can be greatly affected by outliers. If an outlier is significantly higher or lower than the rest of the data, it can skew the mean and make it an inaccurate representation of the typical value of the data set. In contrast, the median is more robust to outliers, as it is the value that separates the upper and lower halves of the data set.\n",
    "\n",
    "Outliers can also affect measures of dispersion, such as the standard deviation and range. The standard deviation measures the spread of the data around the mean, and outliers can increase the standard deviation and make it a less reliable measure of dispersion. The range is also sensitive to outliers, as it is the difference between the highest and lowest values in the data set.\n",
    "\n",
    "For example, consider a data set that represents the salaries of employees in a company:\n",
    "\n",
    "40,000, 50,000, 45,000, 55,000, 60,000, 75,000, 80,000\n",
    "\n",
    "If a new employee joins the company with a salary of 500,000 this would be considered an outlier  The mean salary would increase significantly from 57,857 to 123,571, making it an inaccurate representation of the typical salary in the company. The standard deviation would also increase from 16,022 to 166,325, making it a less reliable measure of dispersion. The range would also increase from 40,000 to 440,000, making it a less useful measure of the spread of the data."
   ]
  },
  {
   "cell_type": "code",
   "execution_count": null,
   "id": "1fcba7a7-6fc5-4d7c-8ac2-f12d666a4da1",
   "metadata": {},
   "outputs": [],
   "source": []
  }
 ],
 "metadata": {
  "kernelspec": {
   "display_name": "Python 3 (ipykernel)",
   "language": "python",
   "name": "python3"
  },
  "language_info": {
   "codemirror_mode": {
    "name": "ipython",
    "version": 3
   },
   "file_extension": ".py",
   "mimetype": "text/x-python",
   "name": "python",
   "nbconvert_exporter": "python",
   "pygments_lexer": "ipython3",
   "version": "3.10.8"
  }
 },
 "nbformat": 4,
 "nbformat_minor": 5
}
