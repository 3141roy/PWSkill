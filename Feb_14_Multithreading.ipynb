{
 "cells": [
  {
   "cell_type": "markdown",
   "id": "741e0b87-8a69-4d7e-a9f3-c9fdcd56709f",
   "metadata": {},
   "source": [
    "##### What is multithreading in python? hy is it used? Name the module used to handle threads in python"
   ]
  },
  {
   "cell_type": "markdown",
   "id": "283aa3fc-5299-4265-8e00-ca5e67455f27",
   "metadata": {},
   "source": [
    "Multithreading in Python refers to the ability of a program to perform multiple tasks concurrently within a single process. A thread is a lightweight sub-process that can be used to run a separate part of a program concurrently with other parts of the program.\n",
    "\n",
    "Multithreading is used in Python to improve the performance of programs that have multiple CPU-intensive tasks, such as data processing or network communications. By dividing the workload among multiple threads, each thread can execute a portion of the program simultaneously, resulting in faster execution times.\n",
    "\n",
    "Threading module is used to handle threads in Python"
   ]
  },
  {
   "cell_type": "markdown",
   "id": "6a6f2d61-d578-4e7f-82c0-9cc56cbdbfd5",
   "metadata": {},
   "source": [
    "##### Why threading module used? rite the use of the following functions\n",
    "1. activeCount\n",
    "2. currentThread\n",
    "3. enumerate"
   ]
  },
  {
   "cell_type": "markdown",
   "id": "df43c73a-cf92-4306-90c2-109d70b19acd",
   "metadata": {},
   "source": [
    "The threading module is used in Python to create and manage threads in a program. It provides a simple and efficient way to write concurrent programs that can perform multiple tasks simultaneously.\n",
    "\n",
    "activeCount(): This function is used to return the number of thread objects that are currently active and running in the Python interpreter. It can be useful for debugging and monitoring the performance of a multithreaded program.\n",
    "\n",
    "currentThread(): This function is used to return a reference to the current thread object that is executing in the Python interpreter. It can be useful for accessing and modifying the properties of the current thread, such as its name and state.\n",
    "\n",
    "enumerate(): This function is used to return a list of all thread objects that are currently active and running in the Python interpreter. It can be useful for iterating over all the threads in a program and performing operations on them, such as stopping or joining them. The enumerate() function also allows you to specify a group argument to return only threads that belong to a specific thread group."
   ]
  },
  {
   "cell_type": "markdown",
   "id": "cbe115e3-f427-4381-86fb-1f9c1d8e4a7c",
   "metadata": {},
   "source": [
    "##### Explain the following functions\n",
    "1. run\n",
    "2. start\n",
    "3. join\n",
    "4. isAlive"
   ]
  },
  {
   "cell_type": "markdown",
   "id": "214c5a0f-77ab-4053-8fcd-bbf5a0eef21d",
   "metadata": {},
   "source": [
    "run(): The run() method is the entry point for the thread. When a thread is started, its run() method is called. This method can be overridden to define the thread's behavior.\n",
    "\n",
    "start(): This function is used to start a new thread of execution for the thread object. When you call the start() method, the thread's run() method is executed in a separate thread of control. This function must be called only once per thread object.\n",
    "\n",
    "join(): This function is used to block the calling thread until the thread on which it is called completes its execution. \n",
    "\n",
    "isAlive(): The isAlive() method is used to check whether the thread is currently executing. The method returns True if the thread is currently executing, and False otherwis"
   ]
  },
  {
   "cell_type": "markdown",
   "id": "233861fb-1b69-4597-985d-04c83c3f7da8",
   "metadata": {},
   "source": [
    "##### Write a python program to create two threads. Thread one must print the list of squares and thread two must print the list of cubes"
   ]
  },
  {
   "cell_type": "code",
   "execution_count": 1,
   "id": "b8f85c8e-5843-46f0-a4f0-dfc21fe19ebe",
   "metadata": {},
   "outputs": [
    {
     "name": "stdout",
     "output_type": "stream",
     "text": [
      "Square of 1 is 1\n",
      "Square of 2 is 4\n",
      "Square of 3 is 9\n",
      "Square of 4 is 16\n",
      "Square of 5 is 25\n",
      "Square of 6 is 36\n",
      "Square of 7 is 49\n",
      "Square of 8 is 64\n",
      "Square of 9 is 81\n",
      "Square of 10 is 100\n",
      "Cube of 1 is 1\n",
      "Cube of 2 is 8\n",
      "Cube of 3 is 27\n",
      "Cube of 4 is 64\n",
      "Cube of 5 is 125\n",
      "Cube of 6 is 216\n",
      "Cube of 7 is 343\n",
      "Cube of 8 is 512\n",
      "Cube of 9 is 729\n",
      "Cube of 10 is 1000\n"
     ]
    }
   ],
   "source": [
    "import threading\n",
    "\n",
    "def print_squares():\n",
    "    for i in range(1, 11):\n",
    "        print(f\"Square of {i} is {i*i}\")\n",
    "\n",
    "def print_cubes():\n",
    "    for i in range(1, 11):\n",
    "        print(f\"Cube of {i} is {i*i*i}\")\n",
    "\n",
    "t1 = threading.Thread(target=print_squares)\n",
    "t2 = threading.Thread(target=print_cubes)\n",
    "\n",
    "t1.start()\n",
    "t2.start()\n",
    "\n",
    "t1.join()\n",
    "t2.join()\n",
    "\n"
   ]
  },
  {
   "cell_type": "markdown",
   "id": "809ffdd3-b722-4713-86ae-e6020e08f94a",
   "metadata": {},
   "source": [
    "##### State advantages and disadvantages of multithreading"
   ]
  },
  {
   "cell_type": "markdown",
   "id": "75f84fa3-3fe3-441f-8db6-0707bf0e7090",
   "metadata": {},
   "source": [
    "##### Advantages:\n",
    "\n",
    "Improved performance: Multithreading can improve the performance of programs by dividing the workload among multiple threads, each of which can execute concurrently on separate CPU cores.\n",
    "\n",
    "Better resource utilization: Multithreading can help maximize the use of available resources such as CPU time, memory, and I/O resources.\n",
    "Increased responsiveness: Multithreading can help improve the responsiveness of programs by allowing some threads to continue executing even if others are blocked or waiting for I/O.\n",
    "\n",
    "Easier to write and maintain code: Multithreading can make it easier to write and maintain complex code by breaking it down into smaller, more manageable pieces that can be executed concurrently.\n",
    "\n",
    "\n",
    "##### Disadvantages:\n",
    "\n",
    "Increased complexity: Multithreading can introduce additional complexity and potential synchronization issues, which can be difficult to debug and maintain.\n",
    "Risk of deadlocks: Multithreading can create a risk of deadlocks when two or more threads are waiting for each other to complete, causing the program to hang or crash.\n",
    "Difficulty in achieving good performance: It can be challenging to achieve good performance when using multithreading, as there may be overhead associated with creating and managing threads and synchronizing their execution.\n",
    "Difficulty in debugging: Debugging multithreaded programs can be difficult, as the behavior of the program can be unpredictable and difficult to reproduce."
   ]
  },
  {
   "cell_type": "markdown",
   "id": "2b521011-e554-4fd8-8c8f-a188c967f706",
   "metadata": {},
   "source": [
    "##### Explain deadlocks and race conditions."
   ]
  },
  {
   "cell_type": "markdown",
   "id": "05353135-233e-4985-b1c7-105f8fb8d2a0",
   "metadata": {},
   "source": [
    "Deadlocks: A deadlock occurs when two or more threads are waiting for each other to release a resource or complete an operation, resulting in a situation where none of the threads can make progress. For example, Thread A may acquire a lock on Resource X, while Thread B acquires a lock on Resource Y. If Thread A tries to acquire a lock on Resource Y and Thread B tries to acquire a lock on Resource X, both threads will be blocked indefinitely, resulting in a deadlock. Deadlocks can be challenging to detect and resolve, as they may not occur consistently and may require complex locking and synchronization mechanisms to prevent.\n",
    "\n",
    "Race conditions: A race condition occurs when two or more threads access shared data or resources in an inconsistent or unpredictable manner, leading to unexpected or incorrect results. For example, suppose Thread A and Thread B both access a shared variable X. If Thread A reads the current value of X, performs some calculation, and then writes the new value back to X, while Thread B also reads the current value of X and writes a different value back to X, the final value of X will depend on the order in which the threads execute. This can lead to unexpected results and difficult-to-debug errors. Race conditions can be prevented by using locking and synchronization mechanisms to ensure that only one thread can access a shared resource at a time."
   ]
  },
  {
   "cell_type": "code",
   "execution_count": null,
   "id": "f1db486b-85dd-45f2-a942-dbdffa411f13",
   "metadata": {},
   "outputs": [],
   "source": []
  }
 ],
 "metadata": {
  "kernelspec": {
   "display_name": "Python 3 (ipykernel)",
   "language": "python",
   "name": "python3"
  },
  "language_info": {
   "codemirror_mode": {
    "name": "ipython",
    "version": 3
   },
   "file_extension": ".py",
   "mimetype": "text/x-python",
   "name": "python",
   "nbconvert_exporter": "python",
   "pygments_lexer": "ipython3",
   "version": "3.10.8"
  }
 },
 "nbformat": 4,
 "nbformat_minor": 5
}
