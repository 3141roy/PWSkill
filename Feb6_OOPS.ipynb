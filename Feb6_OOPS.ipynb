{
 "cells": [
  {
   "cell_type": "markdown",
   "id": "cb08103b-86f2-40d5-9e8f-2e6ae51eb45b",
   "metadata": {},
   "source": [
    "Q1. Create a function which will take a list as an argument and return the product of all the numbers\n",
    "after creating a flat list.\n",
    "Use the below-given list as an argument for your function.\n",
    "list1 = [1,2,3,4, [44,55,66, True], False, (34,56,78,89,34), {1,2,3,3,2,1}, {1:34, \"key2\": [55, 67, 78, 89], 4: (45,\n",
    "22, 61, 34)}, [56, 'data science'], 'Machine Learning']\n",
    "Note: you must extract numeric keys and values of the dictionary also."
   ]
  },
  {
   "cell_type": "code",
   "execution_count": 7,
   "id": "767ba1b4-335d-4528-ac5e-38077b16c99e",
   "metadata": {},
   "outputs": [],
   "source": [
    "def product(list1):\n",
    "    nums = []\n",
    "    for item in list1:\n",
    "        if isinstance(item, (list, tuple, set)):\n",
    "            for x in item:\n",
    "                if isinstance(x,int):\n",
    "                    nums.append(x)\n",
    "        elif isinstance(item, dict):\n",
    "            for key, value in item.items():\n",
    "                if isinstance(key, int):\n",
    "                    nums.append(key)\n",
    "                if isinstance(value, int):\n",
    "                    nums.append(value)\n",
    "                elif isinstance(value, (list, tuple, set)):\n",
    "                    for x in value:\n",
    "                        if isinstance(x,int):\n",
    "                            nums.append(x)\n",
    "        elif isinstance(item, int):\n",
    "            nums.append(item)\n",
    "    product = 1\n",
    "    for num in nums:\n",
    "        product *= num\n",
    "        #print(product)\n",
    "    return product\n",
    "\n",
    "list1 = [1,2,3,4, [44,55,66, True], False, (34,56,78,89,34), {1,2,3,3,2,1}, {1:34, \"key2\": [55, 67, 78, 89], 4: (45,\n",
    "22, 61, 34)}, [56, 'data science'], 'Machine Learning']\n",
    "y = product(list1)\n"
   ]
  },
  {
   "cell_type": "markdown",
   "id": "5b1175a3-2530-460d-b3b2-9b4d1851862a",
   "metadata": {},
   "source": [
    "Q2. Write a python program for encrypting a message sent to you by your friend. The logic of encryption\n",
    "should be such that, for a the output should be z. For b, the output should be y. For c, the output should\n",
    "be x respectively. Also, the whitespace should be replaced with a dollar sign. Keep the punctuation\n",
    "marks unchanged.\n",
    "Input Sentence: I want to become a Data Scientist.\n",
    "Encrypt the above input sentence using the program you just created.\n",
    "Note: Convert the given input sentence into lowercase before encrypting. The final output should be\n",
    "lowercase."
   ]
  },
  {
   "cell_type": "code",
   "execution_count": 8,
   "id": "0405501f-e635-4c5b-aa5d-46f02de42e1b",
   "metadata": {},
   "outputs": [
    {
     "name": "stdout",
     "output_type": "stream",
     "text": [
      "r$dzmg$gl$yvxlnv$z$wzgz$hxrvmgrhg.\n"
     ]
    }
   ],
   "source": [
    "def alter(msg):\n",
    "    msg = msg.lower()\n",
    "    mod = \"\"\n",
    "    for char in msg:\n",
    "        if char == \" \":\n",
    "            mod += \"$\"\n",
    "        elif char.isalpha():\n",
    "            x = chr(219 - ord(char))\n",
    "            mod += x\n",
    "        else:\n",
    "            mod += char\n",
    "    return mod\n",
    "\n",
    "signal = 'I want to become a Data Scientist.'\n",
    "print(alter(signal))"
   ]
  },
  {
   "cell_type": "code",
   "execution_count": null,
   "id": "a90a23d7-87a3-4fd1-93e0-67496fdcd830",
   "metadata": {},
   "outputs": [],
   "source": []
  }
 ],
 "metadata": {
  "kernelspec": {
   "display_name": "Python 3 (ipykernel)",
   "language": "python",
   "name": "python3"
  },
  "language_info": {
   "codemirror_mode": {
    "name": "ipython",
    "version": 3
   },
   "file_extension": ".py",
   "mimetype": "text/x-python",
   "name": "python",
   "nbconvert_exporter": "python",
   "pygments_lexer": "ipython3",
   "version": "3.10.8"
  }
 },
 "nbformat": 4,
 "nbformat_minor": 5
}
