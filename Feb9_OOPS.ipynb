{
 "cells": [
  {
   "cell_type": "markdown",
   "id": "12321439-e29b-4b60-a1ca-4196d034f31f",
   "metadata": {},
   "source": [
    "##### Q1, Create a vehicle class with an init method having instance variables as name_of_vehicle, max_speed and average_of_vehicle."
   ]
  },
  {
   "cell_type": "code",
   "execution_count": 1,
   "id": "789b8076-44ac-44a9-8462-6e5ea1369cd4",
   "metadata": {},
   "outputs": [],
   "source": [
    "class Vehicle:\n",
    "    def __init__(self, name_of_vehicle, max_speed, average_speed):\n",
    "        self.name_of_vehicle = name_of_vehicle\n",
    "        self.max_speed = max_speed\n",
    "        self.average_speed = average_speed"
   ]
  },
  {
   "cell_type": "markdown",
   "id": "131c1833-cc99-44a4-b6fb-4cfcaf090c35",
   "metadata": {},
   "source": [
    "##### Q2. Create a child class car from the vehicle class created in Que 1, which will inherit the vehicle class. Create a method named seating_capacity which takes capacity as an argument and returns the name of the vehicle and its seating capacity."
   ]
  },
  {
   "cell_type": "code",
   "execution_count": 2,
   "id": "a0b630a9-d7d7-4fcf-bd48-afacf225faf7",
   "metadata": {},
   "outputs": [],
   "source": [
    "class Car(Vehicle):\n",
    "    def __init__(self, name_of_vehicle, max_speed, average_speed):\n",
    "        super().__init__(name_of_vehicle, max_speed, average_speed)\n",
    "        \n",
    "    def seating_capacity(self, capacity):\n",
    "        return f\"{self.name_of_vehicle} has a seating capacity of {capacity} passengers.\""
   ]
  },
  {
   "cell_type": "markdown",
   "id": "b58a237e-8f2b-4a7b-bafb-7649ab50fe87",
   "metadata": {},
   "source": [
    "##### Q3. What is multiple inheritance? Write a python code to demonstrate multiple inheritance."
   ]
  },
  {
   "cell_type": "markdown",
   "id": "77eab5d0-95e0-45ac-ba7d-d66deee88086",
   "metadata": {},
   "source": [
    "Multiple Inheritance is a technique in which a child class, as the name suggests can inherit multiple parent classes thus having access to th attributes and methods of all these classes"
   ]
  },
  {
   "cell_type": "code",
   "execution_count": 10,
   "id": "43e3f408-133b-49d8-97f4-b8f28c6c0033",
   "metadata": {},
   "outputs": [
    {
     "name": "stdout",
     "output_type": "stream",
     "text": [
      "<function class1.c1 at 0x7fca9c384040>\n",
      "<function class2.c2 at 0x7fca9c3840d0>\n"
     ]
    }
   ],
   "source": [
    "class class1:                   \n",
    "   def c1():\n",
    "        print('Method of class 1')\n",
    "\n",
    "class class2:                 \n",
    "   def c2():\n",
    "        print('Method of class 2')\n",
    "\n",
    "    \n",
    "class child(class1, class2):         \n",
    "    pass\n",
    "\n",
    "x = child\n",
    "print(x.c1)\n",
    "print(x.c2)"
   ]
  },
  {
   "cell_type": "markdown",
   "id": "0ba0590f-d372-4c9b-b13c-697c24a0b381",
   "metadata": {},
   "source": [
    "##### Q4. What are getter and setter in python? Create a class and create a getter and a setter method in this class."
   ]
  },
  {
   "cell_type": "markdown",
   "id": "38f50b51-173d-4b7f-b17f-a2210480c555",
   "metadata": {},
   "source": [
    "Getter and setter are two special kinds of functions that are used to access and modify the private attributes of a Python class. \n",
    "\n",
    "Getter is used to access, display the value while Setter is used to modify the value"
   ]
  },
  {
   "cell_type": "code",
   "execution_count": 11,
   "id": "6a64ec4b-b325-40ed-8dfb-4ce7da146a01",
   "metadata": {},
   "outputs": [],
   "source": [
    "class Person:\n",
    "    def __init__(self, name, age):\n",
    "        self._name = name\n",
    "    \n",
    "    def get_name(self):\n",
    "        return self._name\n",
    "    \n",
    "    def set_name(self, name):\n",
    "        self._name = name"
   ]
  },
  {
   "cell_type": "markdown",
   "id": "da46386f-d367-4a4d-8a5f-31ae4a2fa046",
   "metadata": {},
   "source": [
    "##### Q5.What is method overriding in python? Write a python code to demonstrate method overriding."
   ]
  },
  {
   "cell_type": "markdown",
   "id": "422e3128-f785-45bc-9207-4a987cd6d15f",
   "metadata": {},
   "source": [
    "Method overriding is the ability of a subclass to provide its own implementation of a method that is already defined in its parent class. The subclass can override the method to provide a specific implementation that is different from the implementation in the parent class."
   ]
  },
  {
   "cell_type": "code",
   "execution_count": 12,
   "id": "80264985-e47a-4428-8db7-58d8698bcdf9",
   "metadata": {},
   "outputs": [],
   "source": [
    "class Animal:\n",
    "    def make_sound(self):\n",
    "        print(\"The animal makes a sound\")\n",
    "        \n",
    "class Cat(Animal):\n",
    "    def make_sound(self):\n",
    "        print(\"Meow\")\n",
    "        \n",
    "class Dog(Animal):\n",
    "    def make_sound(self):\n",
    "        print(\"Woof\")"
   ]
  },
  {
   "cell_type": "code",
   "execution_count": 13,
   "id": "61605f63-9634-4615-b180-7a378b796edf",
   "metadata": {},
   "outputs": [
    {
     "name": "stdout",
     "output_type": "stream",
     "text": [
      "The animal makes a sound\n",
      "Meow\n",
      "Woof\n"
     ]
    }
   ],
   "source": [
    "animal = Animal()\n",
    "cat = Cat()\n",
    "dog = Dog()\n",
    "\n",
    "animal.make_sound() \n",
    "cat.make_sound() \n",
    "dog.make_sound()  "
   ]
  },
  {
   "cell_type": "code",
   "execution_count": null,
   "id": "ab91f0bf-6a7e-4baf-a6da-831e97bc60ea",
   "metadata": {},
   "outputs": [],
   "source": []
  }
 ],
 "metadata": {
  "kernelspec": {
   "display_name": "Python 3 (ipykernel)",
   "language": "python",
   "name": "python3"
  },
  "language_info": {
   "codemirror_mode": {
    "name": "ipython",
    "version": 3
   },
   "file_extension": ".py",
   "mimetype": "text/x-python",
   "name": "python",
   "nbconvert_exporter": "python",
   "pygments_lexer": "ipython3",
   "version": "3.10.8"
  }
 },
 "nbformat": 4,
 "nbformat_minor": 5
}
